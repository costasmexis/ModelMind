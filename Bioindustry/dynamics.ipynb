{
 "cells": [
  {
   "cell_type": "code",
   "execution_count": 1,
   "metadata": {},
   "outputs": [],
   "source": [
    "%load_ext autoreload\n",
    "%autoreload 2"
   ]
  },
  {
   "cell_type": "code",
   "execution_count": 2,
   "metadata": {},
   "outputs": [],
   "source": [
    "import matplotlib.pyplot as plt\n",
    "import numpy as np\n",
    "import pandas as pd\n",
    "from scipy.integrate import solve_ivp, odeint\n",
    "from utils import get_data, ode_func, solve_ode\n",
    "import torch\n",
    "from PINN import PINN\n",
    "from sklearn.preprocessing import MinMaxScaler\n",
    "\n",
    "PATH = './data/'\n",
    "\n",
    "def ode_func(y, t):\n",
    "    X = y[0]\n",
    "    S = y[1]\n",
    "    mu = mu_max * S / (S + Km)\n",
    "    dydt = [mu * X, -1 / Y_XS * mu * X]\n",
    "    return dydt"
   ]
  },
  {
   "cell_type": "code",
   "execution_count": 3,
   "metadata": {},
   "outputs": [
    {
     "name": "stdout",
     "output_type": "stream",
     "text": [
      "mu_max = 0.8348\n",
      "Km = 0.1915\n",
      "Y_XS = 0.4943\n"
     ]
    }
   ],
   "source": [
    "mu_max = 0.84\n",
    "Km = 0.013\n",
    "Y_XS = 0.501\n",
    "\n",
    "mu_max = 0.8348\n",
    "Km = 0.1915\n",
    "Y_XS = 0.4943\n",
    "\n",
    "print(f\"mu_max = {mu_max:.4f}\")\n",
    "print(f\"Km = {Km:.4f}\")\n",
    "print(f\"Y_XS = {Y_XS:.4f}\")\n"
   ]
  },
  {
   "cell_type": "code",
   "execution_count": 4,
   "metadata": {},
   "outputs": [
    {
     "name": "stdout",
     "output_type": "stream",
     "text": [
      "Experiment BR01\n",
      "...RMSE Biomass: 0.1101\n",
      "...MAE Biomass: 0.0690\n",
      "...RMSE Glucose: 0.6191\n",
      "...MAE Glucose: 0.4512\n",
      "\n",
      "Experiment BR02\n",
      "...RMSE Biomass: 0.6671\n",
      "...MAE Biomass: 0.4813\n",
      "...RMSE Glucose: 0.6762\n",
      "...MAE Glucose: 0.4589\n",
      "\n",
      "Experiment BR03\n",
      "...RMSE Biomass: 0.3830\n",
      "...MAE Biomass: 0.2664\n",
      "...RMSE Glucose: 0.4927\n",
      "...MAE Glucose: 0.4208\n",
      "\n",
      "Experiment BR04\n",
      "...RMSE Biomass: 0.2349\n",
      "...MAE Biomass: 0.1555\n",
      "...RMSE Glucose: 1.9508\n",
      "...MAE Glucose: 1.7797\n",
      "\n",
      "Experiment BR05\n",
      "...RMSE Biomass: 0.9658\n",
      "...MAE Biomass: 0.7006\n",
      "...RMSE Glucose: 2.3259\n",
      "...MAE Glucose: 1.8643\n",
      "\n",
      "Experiment BR06\n",
      "...RMSE Biomass: 0.1325\n",
      "...MAE Biomass: 0.0793\n",
      "...RMSE Glucose: 0.5540\n",
      "...MAE Glucose: 0.4072\n",
      "\n",
      "Experiment BR07\n",
      "...RMSE Biomass: 0.0632\n",
      "...MAE Biomass: 0.0406\n",
      "...RMSE Glucose: 0.8390\n",
      "...MAE Glucose: 0.7431\n",
      "\n",
      "Experiment BR08\n",
      "...RMSE Biomass: 0.9066\n",
      "...MAE Biomass: 0.6940\n",
      "...RMSE Glucose: 1.6219\n",
      "...MAE Glucose: 1.1413\n",
      "\n",
      "Experiment BR09\n",
      "...RMSE Biomass: 0.0248\n",
      "...MAE Biomass: 0.0157\n",
      "...RMSE Glucose: 0.7101\n",
      "...MAE Glucose: 0.5907\n",
      "\n"
     ]
    }
   ],
   "source": [
    "import pandas as pd\n",
    "from sklearn.metrics import mean_squared_error, mean_absolute_error\n",
    "\n",
    "for exp_id in [\"BR01\", \"BR02\", \"BR03\", \"BR04\", \"BR05\", \"BR06\", \"BR07\", \"BR08\", \"BR09\"]:\n",
    "    print(f\"Experiment {exp_id}\")\n",
    "    df = get_data(exp_id=exp_id, batch=True)\n",
    "    \n",
    "    t_start = df['Time'].values[0]\n",
    "    t_end = df['Time'].values[-1]   \n",
    "    y_0 = [df['Biomass'].values[0], df['Glucose'].values[0]]\n",
    "\n",
    "    X_pred = []\n",
    "    S_pred = []\n",
    "    for i in range(len(df)):\n",
    "        t0 = 0\n",
    "        t1 = df['Time'].iloc[i]\n",
    "        sol = odeint(ode_func, y_0, [t0, t1])\n",
    "        pred = sol[-1]\n",
    "        X_pred.append(pred[0])\n",
    "        S_pred.append(pred[1])\n",
    "    df['Biomass_pred'] = X_pred\n",
    "    df['Glucose_pred'] = S_pred\n",
    "\n",
    "    # Calculate RMSE and MAE for biomass and glucose\n",
    "    rmse_biomass = mean_squared_error(df['Biomass'], df['Biomass_pred'], squared=False)\n",
    "    mae_biomass = mean_absolute_error(df['Biomass'], df['Biomass_pred'])\n",
    "    rmse_glucose = mean_squared_error(df['Glucose'], df['Glucose_pred'], squared=False)\n",
    "    mae_glucose = mean_absolute_error(df['Glucose'], df['Glucose_pred'])\n",
    "    print(f\"...RMSE Biomass: {rmse_biomass:.4f}\")\n",
    "    print(f\"...MAE Biomass: {mae_biomass:.4f}\")\n",
    "    print(f\"...RMSE Glucose: {rmse_glucose:.4f}\")\n",
    "    print(f\"...MAE Glucose: {mae_glucose:.4f}\")\n",
    "    print()\n",
    "    \n",
    "    # # Solve ODE\n",
    "    # t_span = [t_start, t_end]\n",
    "    # t_eval = df['Time'].values\n",
    "    # sol = solve_ode(mu_max, Km, Y_XS, t_start, t_end, y_0, 1000)\n",
    "\n",
    "    # # Plot solution\n",
    "    # plt.figure(figsize=(10, 3))\n",
    "    # plt.plot(sol.t, sol.y[0], label='Biomass (ODE)')\n",
    "    # plt.plot(sol.t, sol.y[1], label='Glucose (ODE)')\n",
    "    # plt.plot(df['Time'], df['Biomass'], 'o', label='Biomass (Data)')\n",
    "    # plt.plot(df['Time'], df['Glucose'], 'o', label='Glucose (Data)')\n",
    "    # plt.xlabel('Time (h)')\n",
    "    # plt.ylabel('Concentration (g/L)')\n",
    "    # plt.title(f'Experiment {exp_id}')\n",
    "\n"
   ]
  },
  {
   "cell_type": "code",
   "execution_count": 5,
   "metadata": {},
   "outputs": [
    {
     "name": "stdout",
     "output_type": "stream",
     "text": [
      "Experiment BR01\n",
      "...RMSE Biomass: 0.1101\n",
      "...MAE Biomass: 0.0690\n",
      "...RMSE Glucose: 0.6191\n",
      "...MAE Glucose: 0.4512\n",
      "\n"
     ]
    }
   ],
   "source": [
    "import pandas as pd\n",
    "from sklearn.metrics import mean_squared_error, mean_absolute_error\n",
    "\n",
    "for exp_id in [\"BR01\", \"BR02\", \"BR03\", \"BR04\", \"BR05\", \"BR06\", \"BR07\", \"BR08\", \"BR09\"]:\n",
    "    print(f\"Experiment {exp_id}\")\n",
    "    df = get_data(exp_id=exp_id, batch=True)\n",
    "    \n",
    "    t_start = df['Time'].values[0]\n",
    "    t_end = df['Time'].values[-1]   \n",
    "    y_0 = [df['Biomass'].values[0], df['Glucose'].values[0]]\n",
    "\n",
    "    X_pred = []\n",
    "    S_pred = []\n",
    "    for i in range(len(df)):\n",
    "        t0 = 0\n",
    "        t1 = df['Time'].iloc[i]\n",
    "        sol = odeint(ode_func, y_0, [t0, t1])\n",
    "        pred = sol[-1]\n",
    "        X_pred.append(pred[0])\n",
    "        S_pred.append(pred[1])\n",
    "    df['Biomass_pred'] = X_pred\n",
    "    df['Glucose_pred'] = S_pred\n",
    "\n",
    "    # Calculate RMSE and MAE for biomass and glucose\n",
    "    rmse_biomass = mean_squared_error(df['Biomass'], df['Biomass_pred'], squared=False)\n",
    "    mae_biomass = mean_absolute_error(df['Biomass'], df['Biomass_pred'])\n",
    "    rmse_glucose = mean_squared_error(df['Glucose'], df['Glucose_pred'], squared=False)\n",
    "    mae_glucose = mean_absolute_error(df['Glucose'], df['Glucose_pred'])\n",
    "    print(f\"...RMSE Biomass: {rmse_biomass:.4f}\")\n",
    "    print(f\"...MAE Biomass: {mae_biomass:.4f}\")\n",
    "    print(f\"...RMSE Glucose: {rmse_glucose:.4f}\")\n",
    "    print(f\"...MAE Glucose: {mae_glucose:.4f}\")\n",
    "    print()\n",
    "    break\n",
    "\n"
   ]
  },
  {
   "cell_type": "code",
   "execution_count": 79,
   "metadata": {},
   "outputs": [
    {
     "data": {
      "image/png": "[encoded data removed]",
      "text/plain": [
       "<Figure size 1000x300 with 1 Axes>"
      ]
     },
     "metadata": {},
     "output_type": "display_data"
    }
   ],
   "source": [
    "from scipy.signal import savgol_filter\n",
    "\n",
    "t = df['Time'].values\n",
    "biomass = df['Biomass'].values\n",
    "biomass_smooth = savgol_filter(biomass, 5, 4, mode='interp')\n",
    "\n",
    "plt.figure(figsize=(10, 3))\n",
    "plt.plot(t, biomass, 'o', label='Biomass (Data)')\n",
    "plt.plot(t, biomass_smooth, label='Biomass (Smoothed)')\n",
    "plt.legend()\n",
    "plt.show()"
   ]
  },
  {
   "cell_type": "code",
   "execution_count": null,
   "metadata": {},
   "outputs": [],
   "source": []
  }
 ],
 "metadata": {
  "kernelspec": {
   "display_name": "main",
   "language": "python",
   "name": "python3"
  },
  "language_info": {
   "codemirror_mode": {
    "name": "ipython",
    "version": 3
   },
   "file_extension": ".py",
   "mimetype": "text/x-python",
   "name": "python",
   "nbconvert_exporter": "python",
   "pygments_lexer": "ipython3",
   "version": "3.10.12"
  }
 },
 "nbformat": 4,
 "nbformat_minor": 2
}
