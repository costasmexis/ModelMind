{
 "cells": [
  {
   "cell_type": "code",
   "execution_count": 1,
   "metadata": {},
   "outputs": [],
   "source": [
    "%load_ext autoreload\n",
    "%autoreload 2"
   ]
  },
  {
   "attachments": {
    "image.png": {
     "image/png": "[encoded data removed]"
    }
   },
   "cell_type": "markdown",
   "metadata": {},
   "source": [
    "![image.png](attachment:image.png)"
   ]
  },
  {
   "cell_type": "code",
   "execution_count": 32,
   "metadata": {},
   "outputs": [],
   "source": [
    "import matplotlib.pyplot as plt\n",
    "import numpy as np\n",
    "import pandas as pd\n",
    "from scipy.integrate import solve_ivp, odeint\n",
    "from utils import get_data, ode_func, solve_ode\n",
    "import torch\n",
    "from PINN import PINN\n",
    "from sklearn.preprocessing import MinMaxScaler\n",
    "\n",
    "PATH = './data/'\n",
    "\n",
    "def ode_func(y, t):\n",
    "    X = y[0]\n",
    "    S = y[1]\n",
    "    mu = mu_max * S / (S + Km)\n",
    "    dydt = [mu * X, -1 / Y_XS * mu * X]\n",
    "    return dydt"
   ]
  },
  {
   "cell_type": "code",
   "execution_count": 33,
   "metadata": {},
   "outputs": [
    {
     "name": "stdout",
     "output_type": "stream",
     "text": [
      "mu_max = 0.8400\n",
      "Km = 0.0130\n",
      "Y_XS = 0.5010\n"
     ]
    }
   ],
   "source": [
    "mu_max = 0.84\n",
    "Km = 0.013\n",
    "Y_XS = 0.501\n",
    "\n",
    "print(f\"mu_max = {mu_max:.4f}\")\n",
    "print(f\"Km = {Km:.4f}\")\n",
    "print(f\"Y_XS = {Y_XS:.4f}\")"
   ]
  },
  {
   "cell_type": "code",
   "execution_count": 43,
   "metadata": {},
   "outputs": [
    {
     "name": "stdout",
     "output_type": "stream",
     "text": [
      "       Time Glucose   Biomass\n",
      "1         0    8.15     0.274\n",
      "2  1.133333    6.78  0.696667\n",
      "3      1.95    7.08     1.346\n",
      "4      2.95    1.93  3.026136\n"
     ]
    },
    {
     "data": {
      "text/plain": [
       "array([0.7087758 , 7.28218404])"
      ]
     },
     "execution_count": 43,
     "metadata": {},
     "output_type": "execute_result"
    }
   ],
   "source": [
    "t0 = 0\n",
    "t1 = df['Time'].iloc[1]\n",
    "print(df[['Time', 'Glucose', 'Biomass']])\n",
    "\n",
    "sol = odeint(ode_func, y_0, [t0, t1])\n",
    "sol[-1]"
   ]
  },
  {
   "cell_type": "code",
   "execution_count": 25,
   "metadata": {},
   "outputs": [],
   "source": [
    "for exp_id in [\"BR01\", \"BR02\", \"BR03\", \"BR04\", \"BR05\", \"BR06\", \"BR07\", \"BR08\", \"BR09\"]:\n",
    "    df = get_data(exp_id=exp_id, batch=True)\n",
    "    \n",
    "    t_start = df['Time'].values[0]\n",
    "    t_end = df['Time'].values[-1]   \n",
    "    y_0 = [df['Biomass'].values[0], df['Glucose'].values[0]]\n",
    "\n",
    "    # # Solve ODE\n",
    "    # t_span = [t_start, t_end]\n",
    "    # t_eval = df['Time'].values\n",
    "    # sol = solve_ode(mu_max, Km, Y_XS, t_start, t_end, y_0, 1000)\n",
    "\n",
    "    # # Plot solution\n",
    "    # plt.figure(figsize=(10, 3))\n",
    "    # plt.plot(sol.t, sol.y[0], label='Biomass (ODE)')\n",
    "    # plt.plot(sol.t, sol.y[1], label='Glucose (ODE)')\n",
    "    # plt.plot(df['Time'], df['Biomass'], 'o', label='Biomass (Data)')\n",
    "    # plt.plot(df['Time'], df['Glucose'], 'o', label='Glucose (Data)')\n",
    "    # plt.xlabel('Time (h)')\n",
    "    # plt.ylabel('Concentration (g/L)')\n",
    "    # plt.title(f'Experiment {exp_id}')\n",
    "\n"
   ]
  }
 ],
 "metadata": {
  "kernelspec": {
   "display_name": "main",
   "language": "python",
   "name": "python3"
  },
  "language_info": {
   "codemirror_mode": {
    "name": "ipython",
    "version": 3
   },
   "file_extension": ".py",
   "mimetype": "text/x-python",
   "name": "python",
   "nbconvert_exporter": "python",
   "pygments_lexer": "ipython3",
   "version": "3.10.12"
  }
 },
 "nbformat": 4,
 "nbformat_minor": 2
}
