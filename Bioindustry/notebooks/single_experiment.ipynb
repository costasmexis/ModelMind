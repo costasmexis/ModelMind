{
 "cells": [
  {
   "cell_type": "code",
   "execution_count": 7,
   "metadata": {},
   "outputs": [],
   "source": [
    "import os\n",
    "import numpy as np\n",
    "import pandas as pd\n",
    "import torch\n",
    "import torch.nn as nn\n",
    "from scipy.integrate import odeint, solve_ivp\n",
    "from typing import Tuple\n",
    "\n",
    "torch.manual_seed(42)\n",
    "device = torch.device(\"cuda\" if torch.cuda.is_available() else \"cpu\")\n",
    "\n",
    "# Print only 4 decimals\n",
    "np.set_printoptions(precision=4)\n",
    "torch.set_printoptions(precision=4)\n",
    "\n",
    "PATH = \"../data/\"\n",
    "\n",
    "def get_data(exp_id: str, batch: bool = True) -> pd.DataFrame:\n",
    "    xls = pd.ExcelFile(PATH + f\"{exp_id}_for_model.xlsx\")\n",
    "    df = xls.parse(0)\n",
    "    df.drop(0, inplace=True)\n",
    "    df['exp_id'] = exp_id\n",
    "    if batch:\n",
    "        df = df[df[\"Batch\"] == 0]\n",
    "    return df\n",
    "\n",
    "def concat_data():\n",
    "    return pd.concat([get_data(exp_id=exp_id, batch=True) for exp_id in [\"BR01\", \"BR02\", \"BR03\", \"BR04\", \"BR05\", \"BR06\", \"BR07\", \"BR08\", \"BR09\"]], ignore_index=True)\n",
    "\n",
    "def get_training_data(df: pd.DataFrame) -> Tuple[np.array, np.array]:\n",
    "    t_train = df['Time'].values\n",
    "    u_train = df[['Biomass', 'Glucose']].values\n",
    "    return np.float32(t_train), np.float32(u_train)\n",
    "\n",
    "def ode_func(t, y, mu_max, Km, Y_XS):\n",
    "    X = y[0]\n",
    "    S = y[1]\n",
    "    mu = mu_max * S / (Km + S)\n",
    "    return [mu * X, -1 / Y_XS * mu * X]"
   ]
  },
  {
   "cell_type": "markdown",
   "metadata": {},
   "source": [
    "##### Get training data"
   ]
  },
  {
   "cell_type": "code",
   "execution_count": 11,
   "metadata": {},
   "outputs": [
    {
     "name": "stdout",
     "output_type": "stream",
     "text": [
      "Number of training points from ALL experiments: 53\n"
     ]
    }
   ],
   "source": [
    "df = concat_data()\n",
    "print(f'Number of training points from ALL experiments: {len(df)}')\n",
    "\n",
    "t_train, u_train = get_training_data(df)\n",
    "\n",
    "# Train data to tensor\n",
    "ts_train = torch.tensor(t_train, requires_grad=True, device=device, dtype=torch.float32).view(-1, 1)\n",
    "us_train = torch.tensor(u_train, requires_grad=True, device=device, dtype=torch.float32)"
   ]
  },
  {
   "cell_type": "markdown",
   "metadata": {},
   "source": [
    "##### Physics Informed Neural Network"
   ]
  },
  {
   "cell_type": "code",
   "execution_count": 12,
   "metadata": {},
   "outputs": [],
   "source": [
    "class PINN(nn.Module):\n",
    "    def __init__(self):\n",
    "        super(PINN, self).__init__()\n",
    "        self.input = nn.Linear(1, 10)\n",
    "        self.hidden = nn.Linear(10, 10)\n",
    "        self.output = nn.Linear(10, 2)\n",
    "\n",
    "        self.mu_max = nn.Parameter(torch.tensor(0.5))\n",
    "        self.Km = nn.Parameter(torch.tensor(0.5))\n",
    "        self.Y_XS = nn.Parameter(torch.tensor(0.5))\n",
    "\n",
    "    def forward(self, x):\n",
    "        x = torch.tanh(self.input(x))\n",
    "        x = torch.tanh(self.hidden(x))\n",
    "        x = self.output(x)\n",
    "        return x"
   ]
  },
  {
   "cell_type": "markdown",
   "metadata": {},
   "source": [
    "##### Training loop"
   ]
  },
  {
   "cell_type": "code",
   "execution_count": 13,
   "metadata": {},
   "outputs": [],
   "source": [
    "model = PINN().to(device)\n",
    "optimizer = torch.optim.RMSprop(model.parameters(), lr=1e-4)\n",
    "criterion = nn.MSELoss()"
   ]
  },
  {
   "cell_type": "code",
   "execution_count": 14,
   "metadata": {},
   "outputs": [],
   "source": [
    "n_samples = 100\n",
    "\n",
    "def physics_loss(model: nn.Module, t_start, t_end):\n",
    "    t = torch.linspace(t_start, t_end, n_samples, device=device, requires_grad=True).reshape(-1,1)\n",
    "    u = model(t).to(device)\n",
    "    u_X = u[:,0].view(-1,1)\n",
    "    u_S = u[:,1].view(-1,1)\n",
    "    u_t_X = torch.autograd.grad(u_X, t, grad_outputs=torch.ones_like(u_X), create_graph=True)[0]\n",
    "    u_t_S = torch.autograd.grad(u_S, t, grad_outputs=torch.ones_like(u_S), create_graph=True)[0]\n",
    "    error_X = u_t_X - model.mu_max * u_X * u_S / (u_S + model.Km)\n",
    "    error_S = u_t_S + 1 / model.Y_XS * model.mu_max * u_X * u_S / (u_S + model.Km)\n",
    "    return torch.mean(error_X**2) + torch.mean(error_S**2)"
   ]
  },
  {
   "cell_type": "code",
   "execution_count": null,
   "metadata": {},
   "outputs": [],
   "source": []
  },
  {
   "cell_type": "code",
   "execution_count": 16,
   "metadata": {},
   "outputs": [],
   "source": [
    "# Plot LOSS \n",
    "import matplotlib.pyplot as plt\n",
    "\n",
    "plt.plot(LOSS)\n",
    "plt.yscale('log')\n",
    "plt.show()"
   ]
  }
 ],
 "metadata": {
  "kernelspec": {
   "display_name": "main",
   "language": "python",
   "name": "python3"
  },
  "language_info": {
   "codemirror_mode": {
    "name": "ipython",
    "version": 3
   },
   "file_extension": ".py",
   "mimetype": "text/x-python",
   "name": "python",
   "nbconvert_exporter": "python",
   "pygments_lexer": "ipython3",
   "version": "3.10.12"
  }
 },
 "nbformat": 4,
 "nbformat_minor": 2
}
