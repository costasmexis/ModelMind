{
 "cells": [
  {
   "cell_type": "code",
   "execution_count": 2,
   "metadata": {},
   "outputs": [],
   "source": [
    "import os\n",
    "import numpy as np\n",
    "import pandas as pd\n",
    "import torch\n",
    "import torch.nn as nn\n",
    "from scipy.integrate import odeint, solve_ivp\n",
    "from typing import Tuple\n",
    "\n",
    "torch.manual_seed(42)\n",
    "device = torch.device(\"cuda\" if torch.cuda.is_available() else \"cpu\")\n",
    "\n",
    "# Print only 4 decimals\n",
    "np.set_printoptions(precision=4)\n",
    "torch.set_printoptions(precision=4)\n",
    "\n",
    "PATH = \"../data/\"\n",
    "\n",
    "def get_data(exp_id: str, batch: bool = True) -> pd.DataFrame:\n",
    "    xls = pd.ExcelFile(PATH + f\"{exp_id}_for_model.xlsx\")\n",
    "    df = xls.parse(0)\n",
    "    df.drop(0, inplace=True)\n",
    "    df['exp_id'] = exp_id\n",
    "    if batch:\n",
    "        df = df[df[\"Batch\"] == 0]\n",
    "    return df\n",
    "\n",
    "def get_training_data(df: pd.DataFrame) -> Tuple[np.array, np.array]:\n",
    "    t_train = df['Time'].values\n",
    "    u_train = df[['Biomass', 'Glucose']].values\n",
    "    return np.float32(t_train), np.float32(u_train)\n",
    "\n",
    "def ode_func(t, y, mu_max, Km, Y_XS):\n",
    "    X = y[0]\n",
    "    S = y[1]\n",
    "    mu = mu_max * S / (Km + S)\n",
    "    return [mu * X, -1 / Y_XS * mu * X]"
   ]
  },
  {
   "cell_type": "markdown",
   "metadata": {},
   "source": [
    "##### Get training data"
   ]
  },
  {
   "cell_type": "code",
   "execution_count": 3,
   "metadata": {},
   "outputs": [
    {
     "name": "stdout",
     "output_type": "stream",
     "text": [
      "Number of training points: 8\n"
     ]
    }
   ],
   "source": [
    "exp_id = 'BR01'\n",
    "df = get_data(exp_id=exp_id, batch=True)\n",
    "print(f'Number of training points: {len(df)}')\n",
    "\n",
    "t_train, u_train = get_training_data(df)\n",
    "\n",
    "# Train data to tensor\n",
    "ts_train = torch.tensor(t_train, requires_grad=True, device=device, dtype=torch.float32).view(-1, 1)\n",
    "us_train = torch.tensor(u_train, requires_grad=True, device=device, dtype=torch.float32)"
   ]
  },
  {
   "cell_type": "markdown",
   "metadata": {},
   "source": [
    "##### Physics Informed Neural Network"
   ]
  },
  {
   "cell_type": "code",
   "execution_count": 18,
   "metadata": {},
   "outputs": [],
   "source": [
    "class PINN(nn.Module):\n",
    "    def __init__(self):\n",
    "        super(PINN, self).__init__()\n",
    "        self.input = nn.Linear(1, 10)\n",
    "        self.hidden = nn.Linear(10, 10)\n",
    "        self.output = nn.Linear(10, 2)\n",
    "        \n",
    "        self.tanh = nn.Tanh()\n",
    "        self.relu = nn.ReLU()\n",
    "        \n",
    "        self.mu_max = nn.Parameter(torch.tensor(0.5))\n",
    "        self.Km = nn.Parameter(torch.tensor(0.5))\n",
    "        self.Y_XS = nn.Parameter(torch.tensor(0.5))\n",
    "\n",
    "    def forward(self, x):\n",
    "        x = self.input(x)\n",
    "        x = self.tanh(x)\n",
    "        x = self.hidden(x)\n",
    "        x = self.tanh(x)\n",
    "        x = self.output(x)\n",
    "        return x"
   ]
  },
  {
   "cell_type": "markdown",
   "metadata": {},
   "source": [
    "##### Training loop"
   ]
  },
  {
   "cell_type": "code",
   "execution_count": 19,
   "metadata": {},
   "outputs": [],
   "source": [
    "model = PINN().to(device)\n",
    "optimizer = torch.optim.RMSprop(model.parameters(), lr=1e-2)\n",
    "criterion = nn.MSELoss()"
   ]
  },
  {
   "cell_type": "code",
   "execution_count": 20,
   "metadata": {},
   "outputs": [],
   "source": [
    "n_samples = 100\n",
    "t_start = t_train[0]\n",
    "t_end = t_train[-1]\n",
    "\n",
    "def physics_loss(model: nn.Module, t_start, t_end):\n",
    "    t = torch.linspace(t_start, t_end, n_samples, device=device, requires_grad=True).reshape(-1,1)\n",
    "    u = model(t).to(device)\n",
    "    u_X = u[:,0].view(-1,1)\n",
    "    u_S = u[:,1].view(-1,1)\n",
    "    u_t_X = torch.autograd.grad(u_X, t, grad_outputs=torch.ones_like(u_X), create_graph=True)[0]\n",
    "    u_t_S = torch.autograd.grad(u_S, t, grad_outputs=torch.ones_like(u_S), create_graph=True)[0]\n",
    "    error_X = u_t_X - model.mu_max * u_X * u_S / (u_S + model.Km)\n",
    "    error_S = u_t_S + 1 / model.Y_XS * model.mu_max * u_X * u_S / (u_S + model.Km)\n",
    "    return torch.mean(error_X**2) + torch.mean(error_S**2)"
   ]
  },
  {
   "cell_type": "code",
   "execution_count": 21,
   "metadata": {},
   "outputs": [
    {
     "name": "stdout",
     "output_type": "stream",
     "text": [
      "Epoch 0 || Loss: 54.19189453125\n",
      "mu_max: 0.40000030398368835 || Km: 0.5999996066093445 || Y_XS: 0.5999995470046997\n",
      "Epoch 500 || Loss: 0.13188903033733368\n",
      "mu_max: 0.8415413498878479 || Km: 0.6438276171684265 || Y_XS: 0.44443991780281067\n",
      "Epoch 1000 || Loss: 0.12037330865859985\n",
      "mu_max: 0.883121907711029 || Km: 0.5253947973251343 || Y_XS: 0.47353842854499817\n",
      "Epoch 1500 || Loss: 0.09537685662508011\n",
      "mu_max: 0.8822687268257141 || Km: 0.4404357969760895 || Y_XS: 0.4751622676849365\n",
      "Epoch 2000 || Loss: 0.09527098387479782\n",
      "mu_max: 0.8735899329185486 || Km: 0.39048629999160767 || Y_XS: 0.4761100113391876\n",
      "Epoch 2500 || Loss: 0.06702161580324173\n",
      "mu_max: 0.8835763931274414 || Km: 0.3539183437824249 || Y_XS: 0.4612472951412201\n",
      "Epoch 3000 || Loss: 0.07630522549152374\n",
      "mu_max: 0.8654714226722717 || Km: 0.33385515213012695 || Y_XS: 0.47076940536499023\n",
      "Epoch 3500 || Loss: 0.05401773750782013\n",
      "mu_max: 0.8649693131446838 || Km: 0.2980535328388214 || Y_XS: 0.456676721572876\n",
      "Epoch 4000 || Loss: 0.24065126478672028\n",
      "mu_max: 0.844732940196991 || Km: 0.27726319432258606 || Y_XS: 0.47748902440071106\n"
     ]
    },
    {
     "ename": "KeyboardInterrupt",
     "evalue": "",
     "output_type": "error",
     "traceback": [
      "\u001b[0;31m---------------------------------------------------------------------------\u001b[0m",
      "\u001b[0;31mKeyboardInterrupt\u001b[0m                         Traceback (most recent call last)",
      "Cell \u001b[0;32mIn[21], line 12\u001b[0m\n\u001b[1;32m      9\u001b[0m data_loss \u001b[38;5;241m=\u001b[39m criterion(u_pred, us_train)\n\u001b[1;32m     11\u001b[0m \u001b[38;5;66;03m# Physics Loss\u001b[39;00m\n\u001b[0;32m---> 12\u001b[0m ode_loss \u001b[38;5;241m=\u001b[39m \u001b[43mphysics_loss\u001b[49m\u001b[43m(\u001b[49m\u001b[43mmodel\u001b[49m\u001b[43m,\u001b[49m\u001b[43m \u001b[49m\u001b[43mt_start\u001b[49m\u001b[43m,\u001b[49m\u001b[43m \u001b[49m\u001b[43mt_end\u001b[49m\u001b[43m)\u001b[49m\n\u001b[1;32m     14\u001b[0m \u001b[38;5;66;03m# Initial Condition loss\u001b[39;00m\n\u001b[1;32m     15\u001b[0m ic_loss \u001b[38;5;241m=\u001b[39m criterion(u_pred[\u001b[38;5;241m0\u001b[39m], us_train[\u001b[38;5;241m0\u001b[39m])\n",
      "Cell \u001b[0;32mIn[20], line 14\u001b[0m, in \u001b[0;36mphysics_loss\u001b[0;34m(model, t_start, t_end)\u001b[0m\n\u001b[1;32m     12\u001b[0m error_X \u001b[38;5;241m=\u001b[39m u_t_X \u001b[38;5;241m-\u001b[39m model\u001b[38;5;241m.\u001b[39mmu_max \u001b[38;5;241m*\u001b[39m u_X \u001b[38;5;241m*\u001b[39m u_S \u001b[38;5;241m/\u001b[39m (u_S \u001b[38;5;241m+\u001b[39m model\u001b[38;5;241m.\u001b[39mKm)\n\u001b[1;32m     13\u001b[0m error_S \u001b[38;5;241m=\u001b[39m u_t_S \u001b[38;5;241m+\u001b[39m \u001b[38;5;241m1\u001b[39m \u001b[38;5;241m/\u001b[39m model\u001b[38;5;241m.\u001b[39mY_XS \u001b[38;5;241m*\u001b[39m model\u001b[38;5;241m.\u001b[39mmu_max \u001b[38;5;241m*\u001b[39m u_X \u001b[38;5;241m*\u001b[39m u_S \u001b[38;5;241m/\u001b[39m (u_S \u001b[38;5;241m+\u001b[39m model\u001b[38;5;241m.\u001b[39mKm)\n\u001b[0;32m---> 14\u001b[0m \u001b[38;5;28;01mreturn\u001b[39;00m torch\u001b[38;5;241m.\u001b[39mmean(\u001b[43merror_X\u001b[49m\u001b[38;5;241;43m*\u001b[39;49m\u001b[38;5;241;43m*\u001b[39;49m\u001b[38;5;241;43m2\u001b[39;49m) \u001b[38;5;241m+\u001b[39m torch\u001b[38;5;241m.\u001b[39mmean(error_S\u001b[38;5;241m*\u001b[39m\u001b[38;5;241m*\u001b[39m\u001b[38;5;241m2\u001b[39m)\n",
      "File \u001b[0;32m~/env/main/lib/python3.10/site-packages/torch/_tensor.py:38\u001b[0m, in \u001b[0;36m_handle_torch_function_and_wrap_type_error_to_not_implemented.<locals>.wrapped\u001b[0;34m(*args, **kwargs)\u001b[0m\n\u001b[1;32m     34\u001b[0m \u001b[38;5;129m@functools\u001b[39m\u001b[38;5;241m.\u001b[39mwraps(f, assigned\u001b[38;5;241m=\u001b[39massigned)\n\u001b[1;32m     35\u001b[0m \u001b[38;5;28;01mdef\u001b[39;00m \u001b[38;5;21mwrapped\u001b[39m(\u001b[38;5;241m*\u001b[39margs, \u001b[38;5;241m*\u001b[39m\u001b[38;5;241m*\u001b[39mkwargs):\n\u001b[1;32m     36\u001b[0m     \u001b[38;5;28;01mtry\u001b[39;00m:\n\u001b[1;32m     37\u001b[0m         \u001b[38;5;66;03m# See https://github.com/pytorch/pytorch/issues/75462\u001b[39;00m\n\u001b[0;32m---> 38\u001b[0m         \u001b[38;5;28;01mif\u001b[39;00m \u001b[43mhas_torch_function\u001b[49m\u001b[43m(\u001b[49m\u001b[43margs\u001b[49m\u001b[43m)\u001b[49m:\n\u001b[1;32m     39\u001b[0m             \u001b[38;5;28;01mreturn\u001b[39;00m handle_torch_function(wrapped, args, \u001b[38;5;241m*\u001b[39margs, \u001b[38;5;241m*\u001b[39m\u001b[38;5;241m*\u001b[39mkwargs)\n\u001b[1;32m     40\u001b[0m         \u001b[38;5;28;01mreturn\u001b[39;00m f(\u001b[38;5;241m*\u001b[39margs, \u001b[38;5;241m*\u001b[39m\u001b[38;5;241m*\u001b[39mkwargs)\n",
      "\u001b[0;31mKeyboardInterrupt\u001b[0m: "
     ]
    }
   ],
   "source": [
    "EPOCHS = 10000\n",
    "LOSS = []\n",
    "\n",
    "for epoch in range(EPOCHS):\n",
    "    optimizer.zero_grad()\n",
    "    u_pred = model(ts_train)\n",
    "    \n",
    "    # Data Loss\n",
    "    data_loss = criterion(u_pred, us_train)\n",
    "    \n",
    "    # Physics Loss\n",
    "    ode_loss = physics_loss(model, t_start, t_end)\n",
    "    \n",
    "    # Initial Condition loss\n",
    "    ic_loss = criterion(u_pred[0], us_train[0])\n",
    "    \n",
    "    # Total Loss\n",
    "    loss = data_loss + ode_loss + ic_loss\n",
    "    \n",
    "    loss.backward()\n",
    "    optimizer.step()\n",
    "\n",
    "    LOSS.append(loss.item())\n",
    "    \n",
    "    if epoch % 500 == 0:\n",
    "        print(f'Epoch {epoch} || Loss: {loss.item()}')\n",
    "        print(f'mu_max: {model.mu_max.item()} || Km: {model.Km.item()} || Y_XS: {model.Y_XS.item()}')"
   ]
  },
  {
   "cell_type": "code",
   "execution_count": 7,
   "metadata": {},
   "outputs": [
    {
     "data": {
      "image/png": "[encoded data removed]",
      "text/plain": [
       "<Figure size 640x480 with 1 Axes>"
      ]
     },
     "metadata": {},
     "output_type": "display_data"
    }
   ],
   "source": [
    "# Plot LOSS \n",
    "import matplotlib.pyplot as plt\n",
    "\n",
    "plt.plot(LOSS)\n",
    "plt.yscale('log')\n",
    "plt.show()"
   ]
  },
  {
   "cell_type": "code",
   "execution_count": null,
   "metadata": {},
   "outputs": [],
   "source": []
  }
 ],
 "metadata": {
  "kernelspec": {
   "display_name": "main",
   "language": "python",
   "name": "python3"
  },
  "language_info": {
   "codemirror_mode": {
    "name": "ipython",
    "version": 3
   },
   "file_extension": ".py",
   "mimetype": "text/x-python",
   "name": "python",
   "nbconvert_exporter": "python",
   "pygments_lexer": "ipython3",
   "version": "3.10.12"
  }
 },
 "nbformat": 4,
 "nbformat_minor": 2
}
