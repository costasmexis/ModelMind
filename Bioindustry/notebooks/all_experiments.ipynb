{
 "cells": [
  {
   "cell_type": "code",
   "execution_count": 72,
   "metadata": {},
   "outputs": [],
   "source": [
    "import os\n",
    "import numpy as np\n",
    "import pandas as pd\n",
    "import torch\n",
    "import torch.nn as nn\n",
    "from scipy.integrate import odeint, solve_ivp\n",
    "from typing import Tuple\n",
    "\n",
    "torch.manual_seed(42)\n",
    "device = torch.device(\"cuda\" if torch.cuda.is_available() else \"cpu\")\n",
    "\n",
    "# Print only 4 decimals\n",
    "np.set_printoptions(precision=4)\n",
    "torch.set_printoptions(precision=4)\n",
    "\n",
    "PATH = \"../data/\"\n",
    "\n",
    "def get_data(exp_id: str, batch: bool = True) -> pd.DataFrame:\n",
    "    xls = pd.ExcelFile(PATH + f\"{exp_id}_for_model.xlsx\")\n",
    "    df = xls.parse(0)\n",
    "    df.drop(0, inplace=True)\n",
    "    df['exp_id'] = exp_id\n",
    "    if batch:\n",
    "        df = df[df[\"Batch\"] == 0]\n",
    "    return df\n",
    "\n",
    "def get_training_data(df: pd.DataFrame) -> Tuple[np.array, np.array]:\n",
    "    t_train = df['Time'].values\n",
    "    u_train = df[['Biomass', 'Glucose']].values\n",
    "    return np.float32(t_train), np.float32(u_train)\n",
    "\n",
    "def ode_func(t, y, mu_max, Km, Y_XS):\n",
    "    X = y[0]\n",
    "    S = y[1]\n",
    "    mu = mu_max * S / (Km + S)\n",
    "    return [mu * X, -1 / Y_XS * mu * X]"
   ]
  },
  {
   "cell_type": "markdown",
   "metadata": {},
   "source": [
    "##### Get training data"
   ]
  },
  {
   "cell_type": "code",
   "execution_count": 74,
   "metadata": {},
   "outputs": [
    {
     "name": "stdout",
     "output_type": "stream",
     "text": [
      "Dataset shape: (8, 10)\n"
     ]
    }
   ],
   "source": [
    "df = get_data(exp_id='BR04', batch=True)\n",
    "t_train, u_train = get_training_data(df)\n",
    "\n",
    "ts_train = torch.tensor(t_train, requires_grad=True, device=device, dtype=torch.float32).view(-1, 1)\n",
    "us_train = torch.tensor(u_train, requires_grad=True, device=device, dtype=torch.float32)\n",
    "\n",
    "print(f'Dataset shape: {df.shape}')"
   ]
  },
  {
   "cell_type": "markdown",
   "metadata": {},
   "source": [
    "##### Physics Informed Neural Network"
   ]
  },
  {
   "cell_type": "code",
   "execution_count": 75,
   "metadata": {},
   "outputs": [],
   "source": [
    "class PINN(nn.Module):\n",
    "    def __init__(self):\n",
    "        super(PINN, self).__init__()\n",
    "        self.input = nn.Linear(1, 10)\n",
    "        self.hidden = nn.Linear(10, 10)\n",
    "        self.output = nn.Linear(10, 2)\n",
    "\n",
    "        self.mu_max = nn.Parameter(torch.tensor(0.5))\n",
    "        self.Km = nn.Parameter(torch.tensor(0.5))\n",
    "        self.Y_XS = nn.Parameter(torch.tensor(0.5))\n",
    "\n",
    "    def forward(self, x):\n",
    "        x = torch.tanh(self.input(x))\n",
    "        x = torch.tanh(self.hidden(x))\n",
    "        x = self.output(x)\n",
    "        return x"
   ]
  },
  {
   "cell_type": "markdown",
   "metadata": {},
   "source": [
    "##### Training loop"
   ]
  },
  {
   "cell_type": "code",
   "execution_count": 76,
   "metadata": {},
   "outputs": [],
   "source": [
    "model = PINN().to(device)\n",
    "optimizer = torch.optim.RMSprop(model.parameters(), lr=1e-4)\n",
    "criterion = nn.MSELoss()"
   ]
  },
  {
   "cell_type": "code",
   "execution_count": 77,
   "metadata": {},
   "outputs": [],
   "source": [
    "t_start = df['Time'].min()\n",
    "t_end = df['Time'].max()\n",
    "n_samples = 100\n",
    "\n",
    "def physics_loss(model: nn.Module):\n",
    "    t = torch.linspace(t_start, t_end, n_samples, device=device, requires_grad=True).reshape(-1,1)\n",
    "    u = model(t).to(device)\n",
    "    u_X = u[:,0].view(-1,1)\n",
    "    u_S = u[:,1].view(-1,1)\n",
    "    u_t_X = torch.autograd.grad(u_X, t, grad_outputs=torch.ones_like(u_X), create_graph=True)[0]\n",
    "    u_t_S = torch.autograd.grad(u_S, t, grad_outputs=torch.ones_like(u_S), create_graph=True)[0]\n",
    "    error_X = u_t_X - model.mu_max * u_X * u_S / (u_S + model.Km)\n",
    "    error_S = u_t_S + 1 / model.Y_XS * model.mu_max * u_X * u_S / (u_S + model.Km)\n",
    "    return torch.mean(error_X**2) + torch.mean(error_S**2)"
   ]
  },
  {
   "cell_type": "code",
   "execution_count": 78,
   "metadata": {},
   "outputs": [
    {
     "name": "stdout",
     "output_type": "stream",
     "text": [
      "Epoch: 0 | Loss: 94.9466, DATA Loss: 94.9466, ODE Loss: 0.2932\n",
      "mu_max: 0.4990, Km: 0.5010, Y_XS: 0.5010\n",
      "Epoch: 1000 | Loss: 66.3155, DATA Loss: 66.3155, ODE Loss: 0.0676\n",
      "mu_max: 0.4138, Km: 0.5614, Y_XS: 0.5877\n",
      "Epoch: 2000 | Loss: 41.4793, DATA Loss: 41.4793, ODE Loss: 0.0998\n",
      "mu_max: 0.3022, Km: 0.6627, Y_XS: 0.6938\n",
      "Epoch: 3000 | Loss: 26.5838, DATA Loss: 26.5838, ODE Loss: 0.0323\n",
      "mu_max: 0.2068, Km: 0.7506, Y_XS: 0.7830\n",
      "Epoch: 4000 | Loss: 17.0303, DATA Loss: 17.0303, ODE Loss: 0.0224\n",
      "mu_max: 0.2165, Km: 0.7364, Y_XS: 0.7958\n",
      "Epoch: 5000 | Loss: 10.0184, DATA Loss: 10.0184, ODE Loss: 0.2108\n",
      "mu_max: 0.3364, Km: 0.6130, Y_XS: 0.6636\n",
      "Epoch: 6000 | Loss: 5.1681, DATA Loss: 5.1681, ODE Loss: 0.1683\n",
      "mu_max: 0.4399, Km: 0.5067, Y_XS: 0.5549\n",
      "Epoch: 7000 | Loss: 2.0575, DATA Loss: 2.0575, ODE Loss: 0.0710\n",
      "mu_max: 0.5361, Km: 0.4085, Y_XS: 0.4542\n",
      "Epoch: 8000 | Loss: 0.5293, DATA Loss: 0.5293, ODE Loss: 0.0273\n",
      "mu_max: 0.6211, Km: 0.3218, Y_XS: 0.3713\n",
      "Epoch: 9000 | Loss: 0.2142, DATA Loss: 0.2142, ODE Loss: 0.0455\n",
      "mu_max: 0.6866, Km: 0.3138, Y_XS: 0.3750\n",
      "\n",
      "Training stopped...\n",
      "mu_max: 0.7471892833709717\n",
      "Km: 0.33128559589385986\n",
      "Y_XS: 0.38777607679367065\n"
     ]
    }
   ],
   "source": [
    "EPOCHS = 10000\n",
    "LOSS = []\n",
    "for epoch in range(EPOCHS):\n",
    "    optimizer.zero_grad()\n",
    "    u_pred = model.forward(ts_train)  \n",
    "    # Data loss\n",
    "    loss = criterion(u_pred, us_train)\n",
    "    # ODE loss\n",
    "    loss_ode = physics_loss(model)\n",
    "    # Initial Condition loss\n",
    "    loss_ic = criterion(u_pred[0], torch.tensor([X_0, S_0], device=device))\n",
    "    \n",
    "    loss = loss + loss_ode + loss_ic\n",
    "    loss.backward()\n",
    "    LOSS.append(loss)\n",
    "    optimizer.step()\n",
    "\n",
    "    if epoch % 1000 == 0:\n",
    "        print(f\"Epoch: {epoch} | Loss: {loss.item():.4f}, DATA Loss: {loss:.4f}, ODE Loss: {loss_ode:.4f}\")\n",
    "        print(f\"mu_max: {model.mu_max.item():.4f}, Km: {model.Km.item():.4f}, Y_XS: {model.Y_XS.item():.4f}\")\n",
    "\n",
    "# Tranform LOSS from tensor to numpy\n",
    "LOSS = [l.item() for l in LOSS]\n",
    "print('\\nTraining stopped...')\n",
    "print(f'mu_max: {model.mu_max.item()}')\n",
    "print(f'Km: {model.Km.item()}')\n",
    "print(f'Y_XS: {model.Y_XS.item()}')"
   ]
  },
  {
   "cell_type": "code",
   "execution_count": 79,
   "metadata": {},
   "outputs": [
    {
     "data": {
      "image/png": "[encoded data removed]",
      "text/plain": [
       "<Figure size 640x480 with 1 Axes>"
      ]
     },
     "metadata": {},
     "output_type": "display_data"
    }
   ],
   "source": [
    "# Plot LOSS \n",
    "import matplotlib.pyplot as plt\n",
    "\n",
    "plt.plot(LOSS)\n",
    "plt.yscale('log')\n",
    "plt.show()"
   ]
  }
 ],
 "metadata": {
  "kernelspec": {
   "display_name": "main",
   "language": "python",
   "name": "python3"
  },
  "language_info": {
   "codemirror_mode": {
    "name": "ipython",
    "version": 3
   },
   "file_extension": ".py",
   "mimetype": "text/x-python",
   "name": "python",
   "nbconvert_exporter": "python",
   "pygments_lexer": "ipython3",
   "version": "3.10.12"
  }
 },
 "nbformat": 4,
 "nbformat_minor": 2
}
