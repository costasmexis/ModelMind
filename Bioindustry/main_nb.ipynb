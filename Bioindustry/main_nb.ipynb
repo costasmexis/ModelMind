{
 "cells": [
  {
   "cell_type": "code",
   "execution_count": 116,
   "metadata": {},
   "outputs": [],
   "source": [
    "import pandas as pd\n",
    "import numpy as np\n",
    "import torch\n",
    "import torch.nn as nn\n",
    "import matplotlib.pyplot as plt\n",
    "import os\n",
    "from scipy.integrate import odeint, solve_ivp\n",
    "\n",
    "from dataset import Dataset\n",
    "from PINN import PINN, get_loss"
   ]
  },
  {
   "cell_type": "code",
   "execution_count": 126,
   "metadata": {},
   "outputs": [],
   "source": [
    "# Read excel with multiple sheets\n",
    "xls = pd.ExcelFile('data/correct_data.xlsx')\n",
    "df = xls.parse('BR01')\n",
    "columns = ['Time', 'Biomass', 'Glucose']\n",
    "df.columns = columns\n",
    "df['Biomass'].iloc[0] = 1e-6\n",
    "\n",
    "t_train = df['Time'].values\n",
    "u_train = df[['Biomass', 'Glucose']].values"
   ]
  },
  {
   "cell_type": "code",
   "execution_count": 127,
   "metadata": {},
   "outputs": [],
   "source": [
    "pinn = PINN(1, 2, T_START=df['Time'].min(), T_END=df['Time'].max())\n",
    "optimizer = torch.optim.Adam(pinn.parameters(), lr=1e-4)\n",
    "criterion = nn.MSELoss()"
   ]
  },
  {
   "cell_type": "code",
   "execution_count": 139,
   "metadata": {},
   "outputs": [
    {
     "name": "stdout",
     "output_type": "stream",
     "text": [
      "Epoch: 0, Loss: 21.167417526245117, ODE Loss: 0.005754849873483181\n",
      "mu_max: 0.4999000132083893, Km: 0.5001000165939331, Y_XS: 0.5001000165939331\n",
      "Epoch: 500, Loss: 3.776005506515503, ODE Loss: 0.5345706939697266\n",
      "mu_max: 0.43851152062416077, Km: 0.5466159582138062, Y_XS: 0.5580966472625732\n",
      "Epoch: 1000, Loss: 1.0743145942687988, ODE Loss: 0.5376821756362915\n",
      "mu_max: 0.42473742365837097, Km: 0.5697889924049377, Y_XS: 0.5568761229515076\n",
      "Epoch: 1500, Loss: 0.7476022243499756, ODE Loss: 0.42007526755332947\n",
      "mu_max: 0.46530216932296753, Km: 0.5805871486663818, Y_XS: 0.4976418614387512\n",
      "Epoch: 2000, Loss: 0.5262555480003357, ODE Loss: 0.2778262495994568\n",
      "mu_max: 0.5011881589889526, Km: 0.6145662665367126, Y_XS: 0.44640326499938965\n",
      "Epoch: 2500, Loss: 0.36392444372177124, ODE Loss: 0.17174427211284637\n",
      "mu_max: 0.5319643616676331, Km: 0.6653380990028381, Y_XS: 0.40462377667427063\n",
      "Epoch: 3000, Loss: 0.24769620597362518, ODE Loss: 0.10086900740861893\n",
      "mu_max: 0.5612165331840515, Km: 0.7159984111785889, Y_XS: 0.3731600344181061\n",
      "Epoch: 3500, Loss: 0.16782698035240173, ODE Loss: 0.05854112654924393\n",
      "mu_max: 0.5917919874191284, Km: 0.7546858787536621, Y_XS: 0.35356613993644714\n",
      "Epoch: 4000, Loss: 0.11490237712860107, ODE Loss: 0.036726631224155426\n",
      "mu_max: 0.6251378059387207, Km: 0.7705217003822327, Y_XS: 0.34635230898857117\n",
      "Epoch: 4500, Loss: 0.08201290667057037, ODE Loss: 0.028956495225429535\n",
      "mu_max: 0.6613828539848328, Km: 0.7496638894081116, Y_XS: 0.35008853673934937\n"
     ]
    }
   ],
   "source": [
    "# Train data to tensor\n",
    "ts_train = torch.tensor(t_train, requires_grad=True).float().view(-1,1)\n",
    "us_train = torch.tensor(u_train, requires_grad=True).float()\n",
    "\n",
    "EPOCHS = 5000\n",
    "LOSS = []\n",
    "for epoch in range(EPOCHS):\n",
    "    u_pred = pinn(ts_train)\n",
    "    residual_pred = get_loss(pinn)\n",
    "    loss = criterion(u_pred, us_train)\n",
    "    loss += 0.5*residual_pred\n",
    "    LOSS.append(loss.item())\n",
    "    optimizer.zero_grad()\n",
    "    loss.backward()\n",
    "    optimizer.step()\n",
    "    if epoch % 500 == 0:\n",
    "        print(f'Epoch: {epoch}, Loss: {loss.item()}, ODE Loss: {torch.mean(residual_pred).item()}')\n",
    "        print(f'mu_max: {pinn.mu_max.item()}, Km: {pinn.Km.item()}, Y_XS: {pinn.Y_XS.item()}')"
   ]
  },
  {
   "cell_type": "code",
   "execution_count": 147,
   "metadata": {},
   "outputs": [
    {
     "name": "stdout",
     "output_type": "stream",
     "text": [
      "mu_max: 0.6994684338569641, Km: 0.6941318511962891, Y_XS: 0.3622592091560364\n"
     ]
    },
    {
     "data": {
      "image/png": "[encoded data removed]",
      "text/plain": [
       "<Figure size 640x480 with 1 Axes>"
      ]
     },
     "metadata": {},
     "output_type": "display_data"
    }
   ],
   "source": [
    "from scipy.integrate import odeint, solve_ivp\n",
    "\n",
    "def ode_func(y, t, mu_max, Km, Y_XS):\n",
    "    X, S = y\n",
    "    mu = mu_max*S/(Km + S)\n",
    "    dXdt = mu*X\n",
    "    dSdt = -1/Y_XS*dXdt\n",
    "    return [dXdt, dSdt]\n",
    "\n",
    "# solve ODE\n",
    "mu_max = pinn.mu_max.item()\n",
    "Km = pinn.Km.item()\n",
    "Y_XS = pinn.Y_XS.item()\n",
    "print(f'mu_max: {mu_max}, Km: {Km}, Y_XS: {Y_XS}')\n",
    "\n",
    "y0 = [u_train[0,0], u_train[0,1]]\n",
    "sol = odeint(ode_func, y0, t_train, args=(mu_max, Km, Y_XS))\n",
    "\n",
    "# Plot\n",
    "plt.figure()\n",
    "plt.scatter(t_train, u_train[:,0], label='Biomass')\n",
    "plt.scatter(t_train, u_train[:,1], label='Glucose')\n",
    "plt.plot(t_train, sol[:,0], label='Biomass ODE')\n",
    "plt.plot(t_train, sol[:,1], label='Glucose ODE')\n",
    "plt.legend()\n",
    "plt.show()"
   ]
  }
 ],
 "metadata": {
  "kernelspec": {
   "display_name": "main",
   "language": "python",
   "name": "python3"
  },
  "language_info": {
   "codemirror_mode": {
    "name": "ipython",
    "version": 3
   },
   "file_extension": ".py",
   "mimetype": "text/x-python",
   "name": "python",
   "nbconvert_exporter": "python",
   "pygments_lexer": "ipython3",
   "version": "3.10.12"
  }
 },
 "nbformat": 4,
 "nbformat_minor": 2
}
