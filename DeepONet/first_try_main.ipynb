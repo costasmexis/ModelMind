{
 "cells": [
  {
   "cell_type": "code",
   "execution_count": 1,
   "metadata": {},
   "outputs": [],
   "source": [
    "import torch\n",
    "import torch.nn as nn\n",
    "import numpy as np\n",
    "import pandas as pd\n",
    "import matplotlib.pyplot as plt\n",
    "\n",
    "from gstools import SRF, Gaussian\n",
    "from gstools.random import MasterRNG\n",
    "\n",
    "from scipy.integrate import odeint, solve_ivp\n",
    "\n",
    "seed = MasterRNG(42)"
   ]
  },
  {
   "cell_type": "code",
   "execution_count": 4,
   "metadata": {},
   "outputs": [
    {
     "name": "stdout",
     "output_type": "stream",
     "text": [
      "(80, 10) (80, 10) (80,)\n"
     ]
    }
   ],
   "source": [
    "T_START = 0\n",
    "T_END = 1\n",
    "N_SAMPLES = 80\n",
    "N_CURVES = 10\n",
    "t = np.linspace(T_START, T_END, N_SAMPLES)\n",
    "\n",
    "def ode(y, t, k):\n",
    "    dydt = -k * y\n",
    "    return dydt\n",
    "\n",
    "S = np.zeros((N_SAMPLES, N_CURVES))\n",
    "U = np.zeros((N_SAMPLES, N_CURVES))\n",
    "for i in range(N_CURVES):\n",
    "    k = np.random.uniform(1, 10)\n",
    "    y0 = np.random.uniform(1, 10)\n",
    "    sol = odeint(ode, y0, t, args=(k,))\n",
    "    U[:, i] = sol.flatten()\n",
    "    S[:, i] = -k * sol.flatten()\n",
    "    \n",
    "print(S.shape, U.shape, t.shape)"
   ]
  },
  {
   "cell_type": "code",
   "execution_count": 5,
   "metadata": {},
   "outputs": [
    {
     "name": "stdout",
     "output_type": "stream",
     "text": [
      "(800, 80) (800, 1) (800, 1)\n"
     ]
    }
   ],
   "source": [
    "# us -> N_SAMPLES x N_CURVES = 800 ==> us (800, 80)\n",
    "# ts -> (800, 1)\n",
    "# ss -> (800, 1)\n",
    "\n",
    "def iterate_data(m=N_SAMPLES, n=N_CURVES, x=t, U=U, S=S):\n",
    "    us = np.zeros((m*n, m))\n",
    "    ts = np.zeros((m*n, 1))\n",
    "    ss = np.zeros((m*n, 1))\n",
    "    for i in range(n):\n",
    "        for j in range(m):\n",
    "            us[i*m+j, :] = U[:, i]\n",
    "            ts[i*m+j, :] = x[j]\n",
    "            ss[i*m+j, :] = S[j, i]\n",
    "    return us, ts, ss\n",
    "\n",
    "us, ts, ss = iterate_data()\n",
    "print(us.shape, ts.shape, ss.shape)"
   ]
  },
  {
   "cell_type": "code",
   "execution_count": 6,
   "metadata": {},
   "outputs": [
    {
     "name": "stdout",
     "output_type": "stream",
     "text": [
      "torch.Size([16, 80]) torch.Size([16, 1]) torch.Size([16, 1])\n"
     ]
    }
   ],
   "source": [
    "def batch_dataset(batch_size, m=N_SAMPLES, n=N_CURVES, x=t, U=U, S=S, ratio=0.9):\n",
    "    us, xs, ss = iterate_data(m=m, n=n, x=x, U=U, S=S)\n",
    "    \n",
    "    train_size = int(len(us)*ratio)\n",
    "    us_train = us[:train_size]\n",
    "    xs_train = xs[:train_size]\n",
    "    ss_train = ss[:train_size]\n",
    "    \n",
    "    us_test = us[train_size:]\n",
    "    xs_test = xs[train_size:]\n",
    "    ss_test = ss[train_size:]\n",
    "    \n",
    "    us_train = torch.tensor(us_train, dtype=torch.float32)\n",
    "    xs_train = torch.tensor(xs_train, dtype=torch.float32)\n",
    "    ss_train = torch.tensor(ss_train, dtype=torch.float32)\n",
    "    \n",
    "    us_test = torch.tensor(us_test, dtype=torch.float32)\n",
    "    xs_test = torch.tensor(xs_test, dtype=torch.float32)\n",
    "    ss_test = torch.tensor(ss_test, dtype=torch.float32)\n",
    "    \n",
    "    train_dataset = torch.utils.data.TensorDataset(us_train, xs_train, ss_train)\n",
    "    train_dataloader = torch.utils.data.DataLoader(train_dataset, batch_size=batch_size, shuffle=True)\n",
    "    \n",
    "    test_dataset = torch.utils.data.TensorDataset(us_test, xs_test, ss_test)\n",
    "    test_dataloader = torch.utils.data.DataLoader(test_dataset, batch_size=batch_size, shuffle=False)\n",
    "    \n",
    "    return train_dataloader, test_dataloader\n",
    "\n",
    "train_dataloader, test_dataloader = batch_dataset(batch_size=16, ratio=0.9) \n",
    "\n",
    "# Check the shape of the data \n",
    "for u_batch, x_batch, s_batch in train_dataloader:\n",
    "    print(u_batch.shape, x_batch.shape, s_batch.shape)\n",
    "    break"
   ]
  },
  {
   "cell_type": "code",
   "execution_count": 7,
   "metadata": {},
   "outputs": [],
   "source": [
    "class DeepONet(nn.Module):\n",
    "    def __init__(self, neurons=40, in1=1, in2=1, output_neurons=20):\n",
    "        super(DeepONet, self).__init__()\n",
    "        self.in1 = in1\n",
    "        self.in2 = in2\n",
    "        self.neurons = neurons\n",
    "        self.output_neurons = output_neurons\n",
    "        \n",
    "        self.branch = self.branch_network()\n",
    "        self.trunk = self.trunk_network()\n",
    "        \n",
    "    def branch_network(self):\n",
    "        branch = nn.Sequential(\n",
    "            nn.Linear(self.in1, self.neurons),\n",
    "            nn.ReLU(),\n",
    "            nn.Linear(self.neurons, self.neurons),\n",
    "            nn.ReLU(),\n",
    "            nn.Linear(self.neurons, self.output_neurons)\n",
    "        )\n",
    "        return branch\n",
    "            \n",
    "    def trunk_network(self):\n",
    "        trunk = nn.Sequential(\n",
    "            nn.Linear(self.in2, self.neurons),\n",
    "            nn.ReLU(),\n",
    "            nn.Linear(self.neurons, self.neurons),\n",
    "            nn.ReLU(),\n",
    "            nn.Linear(self.neurons, self.neurons),\n",
    "            nn.ReLU(),\n",
    "            nn.Linear(self.neurons, self.output_neurons)\n",
    "        )\n",
    "        return trunk\n",
    "    \n",
    "    def forward(self, x1, x2):\n",
    "        x1 = self.branch(x1)\n",
    "        x2 = self.trunk(x2)\n",
    "        x = torch.einsum(\"bi, bi->b\", x1, x2)\n",
    "        x = torch.unsqueeze(x, 1)\n",
    "        return x"
   ]
  },
  {
   "cell_type": "code",
   "execution_count": 8,
   "metadata": {},
   "outputs": [],
   "source": [
    "model = DeepONet(neurons=40, in1=N_SAMPLES, in2=1, output_neurons=20)"
   ]
  },
  {
   "cell_type": "code",
   "execution_count": 9,
   "metadata": {},
   "outputs": [],
   "source": [
    "def loss(y_pred, y_true):\n",
    "    return torch.mean((y_pred-y_true)**2)"
   ]
  },
  {
   "cell_type": "code",
   "execution_count": 10,
   "metadata": {},
   "outputs": [],
   "source": [
    "optimizer = torch.optim.Adam(model.parameters(), lr=1e-3)"
   ]
  },
  {
   "cell_type": "code",
   "execution_count": 11,
   "metadata": {},
   "outputs": [
    {
     "name": "stdout",
     "output_type": "stream",
     "text": [
      "Epoch 0/100, Loss: 40.25006007618374\n",
      "Epoch 10/100, Loss: 1.4338892146945\n",
      "Epoch 20/100, Loss: 0.5163378389345274\n",
      "Epoch 30/100, Loss: 0.10761949498620298\n",
      "Epoch 40/100, Loss: 0.06164609684298436\n",
      "Epoch 50/100, Loss: 0.09574039004122217\n",
      "Epoch 60/100, Loss: 0.04084950229153037\n",
      "Epoch 70/100, Loss: 0.03350882455706596\n",
      "Epoch 80/100, Loss: 0.09482564967539575\n",
      "Epoch 90/100, Loss: 0.10993615192257696\n"
     ]
    }
   ],
   "source": [
    "train_losses = []\n",
    "epochs = 100\n",
    "\n",
    "for i in range(epochs):\n",
    "    l_total = 0\n",
    "    for u_batch, x_batch, s_batch in train_dataloader:\n",
    "        model.train()\n",
    "        optimizer.zero_grad()\n",
    "        y_pred = model(u_batch, x_batch)\n",
    "        \n",
    "        l = loss(y_pred, s_batch)   \n",
    "        l_total += l.item()\n",
    "        l.backward()    \n",
    "        optimizer.step()\n",
    "        \n",
    "    l_total = l_total/len(train_dataloader)\n",
    "    train_losses.append(l_total)\n",
    "    \n",
    "    if i % 10 == 0:\n",
    "        print(f'Epoch {i}/{epochs}, Loss: {l_total}')  "
   ]
  },
  {
   "cell_type": "code",
   "execution_count": 12,
   "metadata": {},
   "outputs": [
    {
     "data": {
      "image/png": "[encoded data removed]",
      "text/plain": [
       "<Figure size 800x300 with 1 Axes>"
      ]
     },
     "metadata": {},
     "output_type": "display_data"
    }
   ],
   "source": [
    "plt.figure(figsize=(8, 3))   \n",
    "plt.plot(train_losses)\n",
    "plt.xlabel('Epochs', fontsize=12)\n",
    "plt.ylabel('Loss', fontsize=12)\n",
    "plt.title('Training Loss', fontsize=14)\n",
    "plt.grid(True, linestyle='--', alpha=0.5)\n",
    "plt.show()"
   ]
  },
  {
   "cell_type": "code",
   "execution_count": 13,
   "metadata": {},
   "outputs": [
    {
     "name": "stdout",
     "output_type": "stream",
     "text": [
      "torch.Size([1, 80]) torch.Size([80, 1])\n",
      "(80, 1)\n"
     ]
    }
   ],
   "source": [
    "k = 5\n",
    "y0 = 1\n",
    "sol = odeint(ode, y0, t, args=(k,))\n",
    "s_t = sol\n",
    "u_t = -k * sol\n",
    "\n",
    "s_t_tens = torch.tensor(s_t, dtype=torch.float32).T\n",
    "t_test = torch.tensor(t, dtype=torch.float32).unsqueeze(1)\n",
    "print(s_t_tens.shape, t_test.shape)\n",
    "\n",
    "model.eval()\n",
    "p = model(s_t_tens, t_test)\n",
    "p = p.detach().numpy()\n",
    "print(p.shape)"
   ]
  },
  {
   "cell_type": "code",
   "execution_count": 15,
   "metadata": {},
   "outputs": [
    {
     "data": {
      "image/png": "[encoded data removed]",
      "text/plain": [
       "<Figure size 640x480 with 1 Axes>"
      ]
     },
     "metadata": {},
     "output_type": "display_data"
    }
   ],
   "source": [
    "plt.plot(t, s_t, label='s(t)')\n",
    "plt.plot(t, p, label='Predicted u(t)')\n",
    "plt.plot(t, u_t, label='True u(t)')\n",
    "plt.legend()\n",
    "plt.show()"
   ]
  },
  {
   "cell_type": "code",
   "execution_count": null,
   "metadata": {},
   "outputs": [],
   "source": []
  }
 ],
 "metadata": {
  "kernelspec": {
   "display_name": "main",
   "language": "python",
   "name": "python3"
  },
  "language_info": {
   "codemirror_mode": {
    "name": "ipython",
    "version": 3
   },
   "file_extension": ".py",
   "mimetype": "text/x-python",
   "name": "python",
   "nbconvert_exporter": "python",
   "pygments_lexer": "ipython3",
   "version": "3.10.12"
  }
 },
 "nbformat": 4,
 "nbformat_minor": 2
}
