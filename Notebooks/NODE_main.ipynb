{
 "cells": [
  {
   "cell_type": "code",
   "execution_count": 3,
   "metadata": {},
   "outputs": [
    {
     "data": {
      "image/png": "[encoded data removed]",
      "text/plain": [
       "<Figure size 640x480 with 1 Axes>"
      ]
     },
     "metadata": {},
     "output_type": "display_data"
    }
   ],
   "source": [
    "import numpy as np\n",
    "import matplotlib.pyplot as plt\n",
    "import torch\n",
    "import torch.nn as nn\n",
    "from torchdiffeq import odeint, odeint_adjoint\n",
    "from tqdm import tqdm\n",
    "\n",
    "K = torch.Tensor([0.1])\n",
    "T0 = torch.Tensor([100])\n",
    "x_0 = torch.Tensor([200])\n",
    "t = torch.arange(0, 60, dtype=torch.float32)\n",
    "\n",
    "def f(t, x):\n",
    "    return - K * (x - T0)\n",
    "\n",
    "sol = odeint(f, y0=x_0, t=t, method='dopri5')\n",
    "sol = sol + torch.Tensor(np.random.normal(0, 1, sol.shape))\n",
    "plt.plot(t, sol)\n",
    "plt.xlabel('Time')\n",
    "plt.ylabel('Temperature')\n",
    "plt.show()\n"
   ]
  },
  {
   "cell_type": "code",
   "execution_count": 4,
   "metadata": {},
   "outputs": [
    {
     "name": "stderr",
     "output_type": "stream",
     "text": [
      "  0%|          | 0/100 [00:00<?, ?it/s]"
     ]
    }
   ],
   "source": [
    "class f(nn.Module):\n",
    "    def __init__(self, dim):\n",
    "        super(f, self).__init__()\n",
    "        self.model = nn.Sequential(\n",
    "            nn.Linear(dim, 10),\n",
    "            nn.ReLU(),\n",
    "            nn.Linear(10, 10),\n",
    "            nn.ReLU(),\n",
    "            nn.Linear(10, dim)\n",
    "        )\n",
    "        \n",
    "    def forward(self, t, x):\n",
    "        return self.model(x)\n",
    "    \n",
    "class ODEBlock(nn.Module):\n",
    "    def __init__(self, f):\n",
    "        super(ODEBlock, self).__init__()\n",
    "        self.f = f\n",
    "        self.integration_time = torch.Tensor([0, 60]).float()\n",
    "        \n",
    "    def forward(self, x):\n",
    "        self.integration_time = self.integration_time.type_as(x)\n",
    "        out = odeint_adjoint(self.f, x, self.integration_time, method='dopri5')\n",
    "        \n",
    "        return out[1]\n",
    "    \n",
    "class ODENet(nn.Module):\n",
    "    def __init__(self, in_dim, mid_dim, out_dim):\n",
    "        super(ODENet, self).__init__()\n",
    "        fx = f(dim=mid_dim)\n",
    "        self.fc1 = nn.Linear(in_dim, mid_dim)\n",
    "        self.relu1 = nn.ReLU(inplace=True)\n",
    "        self.norm1 = nn.BatchNorm1d(mid_dim)\n",
    "        self.ode_block = ODEBlock(fx)\n",
    "        self.dropout = nn.Dropout(0.4)\n",
    "        self.norm2 = nn.BatchNorm1d(mid_dim)\n",
    "        self.fc2 = nn.Linear(mid_dim, out_dim)\n",
    "        \n",
    "    def forward(self, x):\n",
    "        batch_size = x.shape[0]\n",
    "        x = x.view(batch_size, -1)\n",
    "        \n",
    "        out = self.fc1(x)\n",
    "        out = self.relu1(out)\n",
    "        # out = self.norm1(out)\n",
    "        out = self.ode_block(out)    \n",
    "        # out = self.norm2(out)\n",
    "        out = self.fc2(out)\n",
    "        \n",
    "        return out\n",
    "    \n",
    "model = ODENet(1, 10, 1)\n",
    "\n",
    "criterion = nn.MSELoss()\n",
    "optimizer = torch.optim.Adam(model.parameters(), lr=0.01)\n",
    "\n",
    "LOSS = []\n",
    "for epoch in tqdm(range(100)):\n",
    "    model.train()\n",
    "    optimizer.zero_grad()\n",
    "    output = model(t)\n",
    "    loss = criterion(output, sol)\n",
    "    loss.backward()\n",
    "    LOSS.append(loss.item())\n",
    "    optimizer.step()\n",
    "    # if epoch % 1 == 0:\n",
    "    #     print('Epoch:', epoch, 'Loss:', loss.item())\n",
    "        "
   ]
  },
  {
   "cell_type": "code",
   "execution_count": null,
   "metadata": {},
   "outputs": [],
   "source": []
  },
  {
   "cell_type": "code",
   "execution_count": null,
   "metadata": {},
   "outputs": [],
   "source": [
    "aaaa"
   ]
  },
  {
   "cell_type": "code",
   "execution_count": null,
   "metadata": {},
   "outputs": [],
   "source": []
  },
  {
   "cell_type": "code",
   "execution_count": null,
   "metadata": {},
   "outputs": [],
   "source": [
    "import numpy as np\n",
    "import torch\n",
    "import torch.nn as nn\n",
    "from scipy.integrate import odeint\n",
    "import matplotlib.pyplot as plt\n",
    "\n",
    "K = 0.1\n",
    "T0 =100\n",
    "x_0 = 200\n",
    "dt = 0.5\n",
    "\n",
    "def ode_func(x, t):\n",
    "    return  - K * (x - T0)\n",
    "\n",
    "# Solve ODE \n",
    "t = np.arange(0, 60, dt)\n",
    "sol = odeint(ode_func, x_0, t)\n",
    "sol = [x + np.random.normal(0,1) for x in sol] \n",
    "\n",
    "# Plot\n",
    "plt.figure(figsize=(5, 3))\n",
    "plt.plot(t, sol, label='T(t)')\n",
    "plt.xlabel('Time')\n",
    "plt.ylabel('Temperature')\n",
    "plt.legend()\n",
    "plt.grid()\n",
    "plt.show()"
   ]
  },
  {
   "cell_type": "code",
   "execution_count": null,
   "metadata": {},
   "outputs": [],
   "source": [
    "# Torch ANN with 2 inputs, 1 output and a hidden layer with 10 nodes\n",
    "class Net(nn.Module):\n",
    "    def __init__(self):\n",
    "        super(Net, self).__init__()\n",
    "        self.input = nn.Linear(2, 10)\n",
    "        self.hidden = nn.Linear(10, 10)\n",
    "        self.output = nn.Linear(10, 1)\n",
    "\n",
    "    def forward(self, x):\n",
    "        x = torch.relu(self.input(x))\n",
    "        x = torch.relu(self.hidden(x))\n",
    "        x = self.output(x)\n",
    "        return x\n",
    "    \n",
    "# Initialize ANN instance\n",
    "ann = Net()\n",
    "params = list(ann.parameters())\n",
    "\n"
   ]
  }
 ],
 "metadata": {
  "kernelspec": {
   "display_name": "main",
   "language": "python",
   "name": "python3"
  },
  "language_info": {
   "codemirror_mode": {
    "name": "ipython",
    "version": 3
   },
   "file_extension": ".py",
   "mimetype": "text/x-python",
   "name": "python",
   "nbconvert_exporter": "python",
   "pygments_lexer": "ipython3",
   "version": "3.10.12"
  }
 },
 "nbformat": 4,
 "nbformat_minor": 2
}
