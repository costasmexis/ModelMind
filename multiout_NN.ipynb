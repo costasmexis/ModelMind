{
 "cells": [
  {
   "cell_type": "code",
   "execution_count": 2,
   "metadata": {},
   "outputs": [
    {
     "name": "stdout",
     "output_type": "stream",
     "text": [
      "Training set: 80 samples\n",
      "Test set: 20 samples\n"
     ]
    }
   ],
   "source": [
    "import pandas as pd\n",
    "from sklearn.datasets import make_regression\n",
    "from sklearn.model_selection import train_test_split\n",
    "\n",
    "# Generate a dummy regression problem with 2 outputs\n",
    "X, y = make_regression(n_samples=100, n_features=1, n_targets=2, noise=0.1)\n",
    "df = pd.DataFrame(X, columns=['X'])\n",
    "df['y1'] = y[:, 0]\n",
    "df['y2'] = y[:, 1]\n",
    "\n",
    "# Train - test split\n",
    "X_train, X_test, y_train, y_test = train_test_split(df[['X']], df[['y1', 'y2']], test_size=0.2, random_state=42)\n",
    "print(f'Training set: {X_train.shape[0]} samples')\n",
    "print(f'Test set: {X_test.shape[0]} samples')"
   ]
  },
  {
   "cell_type": "code",
   "execution_count": 3,
   "metadata": {},
   "outputs": [
    {
     "name": "stdout",
     "output_type": "stream",
     "text": [
      "R^2: 0.9999964810647388\n"
     ]
    }
   ],
   "source": [
    "from sklearn.linear_model import LinearRegression\n",
    "model = LinearRegression().fit(X_train, y_train)\n",
    "print(f'R^2: {model.score(X_test, y_test)}')"
   ]
  },
  {
   "cell_type": "code",
   "execution_count": 4,
   "metadata": {},
   "outputs": [],
   "source": [
    "import numpy as np\n",
    "import torch\n",
    "import torch.nn as nn\n",
    "\n",
    "DEVICE = 'cuda' if torch.cuda.is_available() else 'cpu'\n",
    "\n",
    "def np_to_ts(x):\n",
    "    n_samples = len(x)\n",
    "    return torch.from_numpy(x).to(torch.float).to(DEVICE).reshape(n_samples, -1)\n",
    "\n",
    "class Net(nn.Module):\n",
    "    def __init__(self, input_size, output_size):\n",
    "        super(Net, self).__init__()\n",
    "        self.input_size = input_size\n",
    "        self.output_size = output_size\n",
    "        \n",
    "        self.fc = nn.Linear(self.input_size, 10)\n",
    "        self.relu = nn.ReLU()\n",
    "        self.out = nn.Linear(10, self.output_size)\n",
    "        \n",
    "    def forward(self, x):\n",
    "        x = self.fc(x)\n",
    "        x = self.relu(x)\n",
    "        x = self.out(x)\n",
    "        return x"
   ]
  },
  {
   "cell_type": "code",
   "execution_count": 5,
   "metadata": {},
   "outputs": [
    {
     "name": "stdout",
     "output_type": "stream",
     "text": [
      "Epoch 0, loss 3866.430419921875\n",
      "Epoch 100, loss 2259.97314453125\n",
      "Epoch 200, loss 585.9000854492188\n",
      "Epoch 300, loss 118.8823471069336\n",
      "Epoch 400, loss 52.86066436767578\n",
      "Epoch 500, loss 45.09247589111328\n",
      "Epoch 600, loss 41.52095031738281\n",
      "Epoch 700, loss 37.90437698364258\n",
      "Epoch 800, loss 34.22755813598633\n",
      "Epoch 900, loss 29.83445167541504\n",
      "Epoch 1000, loss 24.86443328857422\n",
      "Epoch 1100, loss 19.976909637451172\n",
      "Epoch 1200, loss 16.033733367919922\n",
      "Epoch 1300, loss 12.892077445983887\n",
      "Epoch 1400, loss 10.459759712219238\n",
      "Epoch 1500, loss 8.677881240844727\n",
      "Epoch 1600, loss 7.149247646331787\n",
      "Epoch 1700, loss 5.9136128425598145\n",
      "Epoch 1800, loss 4.972369194030762\n",
      "Epoch 1900, loss 4.27785587310791\n",
      "Epoch 2000, loss 3.7392711639404297\n",
      "Epoch 2100, loss 3.283195972442627\n",
      "Epoch 2200, loss 2.873563766479492\n",
      "Epoch 2300, loss 2.4874534606933594\n",
      "Epoch 2400, loss 2.165773630142212\n",
      "Epoch 2500, loss 1.8796215057373047\n",
      "Epoch 2600, loss 1.5835232734680176\n",
      "Epoch 2700, loss 1.3187429904937744\n",
      "Epoch 2800, loss 1.0898483991622925\n",
      "Epoch 2900, loss 0.9210341572761536\n",
      "Epoch 3000, loss 0.8019834756851196\n",
      "Epoch 3100, loss 0.7084845304489136\n",
      "Epoch 3200, loss 0.6374688744544983\n",
      "Epoch 3300, loss 0.5751672983169556\n",
      "Epoch 3400, loss 0.512886106967926\n",
      "Epoch 3500, loss 0.44262903928756714\n",
      "Epoch 3600, loss 0.38247790932655334\n",
      "Epoch 3700, loss 0.33009442687034607\n",
      "Epoch 3800, loss 0.2796921133995056\n",
      "Epoch 3900, loss 0.23778554797172546\n",
      "Epoch 4000, loss 0.2022620141506195\n",
      "Epoch 4100, loss 0.17322039604187012\n",
      "Epoch 4200, loss 0.15018334984779358\n",
      "Epoch 4300, loss 0.13287922739982605\n",
      "Epoch 4400, loss 0.12034463882446289\n",
      "Epoch 4500, loss 0.10847745835781097\n",
      "Epoch 4600, loss 0.0980418473482132\n",
      "Epoch 4700, loss 0.08943413197994232\n",
      "Epoch 4800, loss 0.08363265544176102\n",
      "Epoch 4900, loss 0.07839148491621017\n",
      "Epoch 5000, loss 0.07381369918584824\n",
      "Epoch 5100, loss 0.06964006274938583\n",
      "Epoch 5200, loss 0.06573835760354996\n",
      "Epoch 5300, loss 0.06208697706460953\n",
      "Epoch 5400, loss 0.058620743453502655\n",
      "Epoch 5500, loss 0.0544586181640625\n",
      "Epoch 5600, loss 0.04988019913434982\n",
      "Epoch 5700, loss 0.045398347079753876\n",
      "Epoch 5800, loss 0.04157285392284393\n",
      "Epoch 5900, loss 0.038293275982141495\n",
      "Epoch 6000, loss 0.035468943417072296\n",
      "Epoch 6100, loss 0.033024732023477554\n",
      "Epoch 6200, loss 0.030898744240403175\n",
      "Epoch 6300, loss 0.02903849445283413\n",
      "Epoch 6400, loss 0.026757737621665\n",
      "Epoch 6500, loss 0.023695169016718864\n",
      "Epoch 6600, loss 0.021049384027719498\n",
      "Epoch 6700, loss 0.019021302461624146\n",
      "Epoch 6800, loss 0.017460953444242477\n",
      "Epoch 6900, loss 0.016250405460596085\n",
      "Epoch 7000, loss 0.014560612849891186\n",
      "Epoch 7100, loss 0.01327879261225462\n",
      "Epoch 7200, loss 0.012358655221760273\n",
      "Epoch 7300, loss 0.011685984209179878\n",
      "Epoch 7400, loss 0.011071906425058842\n",
      "Epoch 7500, loss 0.010604770854115486\n",
      "Epoch 7600, loss 0.010153427720069885\n",
      "Epoch 7700, loss 0.00983884371817112\n",
      "Epoch 7800, loss 0.009534130804240704\n",
      "Epoch 7900, loss 0.009300598874688148\n",
      "Epoch 8000, loss 0.009090048260986805\n",
      "Epoch 8100, loss 0.008926274254918098\n",
      "Epoch 8200, loss 0.008797495625913143\n",
      "Epoch 8300, loss 0.008599217049777508\n",
      "Epoch 8400, loss 0.008398951962590218\n",
      "Epoch 8500, loss 0.008249877020716667\n",
      "Epoch 8600, loss 0.008148850873112679\n",
      "Epoch 8700, loss 0.00808081217110157\n",
      "Epoch 8800, loss 0.008035009726881981\n",
      "Epoch 8900, loss 0.008003476075828075\n",
      "Epoch 9000, loss 0.007981378585100174\n",
      "Epoch 9100, loss 0.007967186160385609\n",
      "Epoch 9200, loss 0.007957985624670982\n",
      "Epoch 9300, loss 0.007938399910926819\n",
      "Epoch 9400, loss 0.007927123457193375\n",
      "Epoch 9500, loss 0.007922807708382607\n",
      "Epoch 9600, loss 0.007918466813862324\n",
      "Epoch 9700, loss 0.007914172485470772\n",
      "Epoch 9800, loss 0.007909873500466347\n",
      "Epoch 9900, loss 0.007905665785074234\n",
      "Loss: 0.0104881152510643\n"
     ]
    }
   ],
   "source": [
    "# Train the model\n",
    "model = Net(1, 2).to(DEVICE)\n",
    "criterion = nn.MSELoss()\n",
    "optimizer = torch.optim.Adam(model.parameters(), lr=0.01)\n",
    "\n",
    "X_train_ts = np_to_ts(X_train.values)\n",
    "y_train_ts = np_to_ts(y_train.values)\n",
    "\n",
    "EPOCHS = 10000\n",
    "for epoch in range(EPOCHS):\n",
    "    model.train()\n",
    "    optimizer.zero_grad()\n",
    "    outputs = model(X_train_ts)\n",
    "    loss = criterion(outputs, y_train_ts)\n",
    "    loss.backward()\n",
    "    optimizer.step()\n",
    "    if epoch % 100 == 0:\n",
    "        print(f'Epoch {epoch}, loss {loss.item()}')\n",
    "        \n",
    "# Evaluate the model\n",
    "X_test_ts = np_to_ts(X_test.values)\n",
    "y_test_ts = np_to_ts(y_test.values)\n",
    "with torch.no_grad():\n",
    "    y_pred = model(X_test_ts)\n",
    "    loss = criterion(y_pred, y_test_ts)\n",
    "    print(f'Loss: {loss.item()}')"
   ]
  },
  {
   "cell_type": "code",
   "execution_count": 9,
   "metadata": {},
   "outputs": [
    {
     "data": {
      "text/plain": [
       "0.9999964197664062"
      ]
     },
     "execution_count": 9,
     "metadata": {},
     "output_type": "execute_result"
    }
   ],
   "source": [
    "y_pred = model(X_test_ts).cpu().detach().numpy()\n",
    "\n",
    "from sklearn.metrics import r2_score\n",
    "r2_score(y_test, y_pred)"
   ]
  },
  {
   "cell_type": "code",
   "execution_count": 28,
   "metadata": {},
   "outputs": [
    {
     "data": {
      "text/html": [
       "<div>\n",
       "<style scoped>\n",
       "    .dataframe tbody tr th:only-of-type {\n",
       "        vertical-align: middle;\n",
       "    }\n",
       "\n",
       "    .dataframe tbody tr th {\n",
       "        vertical-align: top;\n",
       "    }\n",
       "\n",
       "    .dataframe thead th {\n",
       "        text-align: right;\n",
       "    }\n",
       "</style>\n",
       "<table border=\"1\" class=\"dataframe\">\n",
       "  <thead>\n",
       "    <tr style=\"text-align: right;\">\n",
       "      <th></th>\n",
       "      <th>y1_true</th>\n",
       "      <th>y1_pred</th>\n",
       "      <th>y2_true</th>\n",
       "      <th>y2_pred</th>\n",
       "    </tr>\n",
       "  </thead>\n",
       "  <tbody>\n",
       "    <tr>\n",
       "      <th>83</th>\n",
       "      <td>-1.889057</td>\n",
       "      <td>-1.896921</td>\n",
       "      <td>-0.982847</td>\n",
       "      <td>-1.106185</td>\n",
       "    </tr>\n",
       "    <tr>\n",
       "      <th>53</th>\n",
       "      <td>-79.251498</td>\n",
       "      <td>-79.185402</td>\n",
       "      <td>-45.977589</td>\n",
       "      <td>-46.008533</td>\n",
       "    </tr>\n",
       "    <tr>\n",
       "      <th>70</th>\n",
       "      <td>-53.650165</td>\n",
       "      <td>-53.737904</td>\n",
       "      <td>-31.317897</td>\n",
       "      <td>-31.224285</td>\n",
       "    </tr>\n",
       "    <tr>\n",
       "      <th>45</th>\n",
       "      <td>-160.601376</td>\n",
       "      <td>-160.496933</td>\n",
       "      <td>-93.384369</td>\n",
       "      <td>-93.248161</td>\n",
       "    </tr>\n",
       "    <tr>\n",
       "      <th>44</th>\n",
       "      <td>102.936410</td>\n",
       "      <td>102.961617</td>\n",
       "      <td>59.808890</td>\n",
       "      <td>59.845436</td>\n",
       "    </tr>\n",
       "  </tbody>\n",
       "</table>\n",
       "</div>"
      ],
      "text/plain": [
       "       y1_true     y1_pred    y2_true    y2_pred\n",
       "83   -1.889057   -1.896921  -0.982847  -1.106185\n",
       "53  -79.251498  -79.185402 -45.977589 -46.008533\n",
       "70  -53.650165  -53.737904 -31.317897 -31.224285\n",
       "45 -160.601376 -160.496933 -93.384369 -93.248161\n",
       "44  102.936410  102.961617  59.808890  59.845436"
      ]
     },
     "execution_count": 28,
     "metadata": {},
     "output_type": "execute_result"
    }
   ],
   "source": [
    "results_df = pd.DataFrame({'y1_true': y_test['y1'], 'y1_pred': y_pred[:, 0], 'y2_true': y_test['y2'], 'y2_pred': y_pred[:, 1]})\n",
    "results_df.head()"
   ]
  }
 ],
 "metadata": {
  "kernelspec": {
   "display_name": "main",
   "language": "python",
   "name": "python3"
  },
  "language_info": {
   "codemirror_mode": {
    "name": "ipython",
    "version": 3
   },
   "file_extension": ".py",
   "mimetype": "text/x-python",
   "name": "python",
   "nbconvert_exporter": "python",
   "pygments_lexer": "ipython3",
   "version": "3.10.12"
  }
 },
 "nbformat": 4,
 "nbformat_minor": 2
}
