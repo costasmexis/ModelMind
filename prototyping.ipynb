{
 "cells": [
  {
   "cell_type": "code",
   "execution_count": 28,
   "metadata": {},
   "outputs": [],
   "source": [
    "import pandas as pd\n",
    "import numpy as np\n",
    "from scipy.integrate import odeint\n",
    "import matplotlib.pyplot as plt\n",
    "\n",
    "# Experimental data\n",
    "k_1 = 1\n",
    "k_2 = 4\n",
    "t_exp = np.array([0, 0.1, 0.2, 0.3, 0.4, 0.5, 0.6, 0.7, 0.8, 0.9, 1])\n",
    "u_0_exp = np.array([np.exp(-k_1*t) for t in t_exp])\n",
    "u_1_exp = np.array([k_1/(k_2-k_1)*(np.exp(-k_1*t)-np.exp(-k_2*t)) for t in t_exp])\n",
    "u_exp = np.column_stack((u_0_exp, u_1_exp))\n",
    "obs_data = pd.DataFrame({'t': t_exp, 'u_0': u_0_exp, 'u_1': u_1_exp})\n",
    "\n",
    "del k_1, k_2\n",
    "\n",
    "# Build ANN\n",
    "import tensorflow as tf\n",
    "from tensorflow import keras\n",
    "\n",
    "# Define the model architecture\n",
    "optimizer = tf.keras.optimizers.Adam(learning_rate=0.001, beta_1=0.9, beta_2=0.999, epsilon=1e-08) \n",
    "model = keras.Sequential([\n",
    "    keras.layers.Dense(5, activation='tanh', input_shape=(1,)),\n",
    "    keras.layers.Dense(2)\n",
    "])\n",
    "\n",
    "# Compile the model\n",
    "model.compile(optimizer=optimizer, loss='mae')\n",
    "history = model.fit(t_exp, np.column_stack((u_0_exp, u_1_exp)), epochs=10000, verbose=0)"
   ]
  },
  {
   "cell_type": "markdown",
   "metadata": {},
   "source": [
    "#### Start from here"
   ]
  },
  {
   "cell_type": "code",
   "execution_count": 39,
   "metadata": {},
   "outputs": [
    {
     "data": {
      "text/html": [
       "<div>\n",
       "<style scoped>\n",
       "    .dataframe tbody tr th:only-of-type {\n",
       "        vertical-align: middle;\n",
       "    }\n",
       "\n",
       "    .dataframe tbody tr th {\n",
       "        vertical-align: top;\n",
       "    }\n",
       "\n",
       "    .dataframe thead th {\n",
       "        text-align: right;\n",
       "    }\n",
       "</style>\n",
       "<table border=\"1\" class=\"dataframe\">\n",
       "  <thead>\n",
       "    <tr style=\"text-align: right;\">\n",
       "      <th></th>\n",
       "      <th>t</th>\n",
       "      <th>u_0</th>\n",
       "      <th>u_1</th>\n",
       "      <th>u_0_pred</th>\n",
       "      <th>u_1_pred</th>\n",
       "      <th>du0_dt</th>\n",
       "      <th>du1_dt</th>\n",
       "    </tr>\n",
       "  </thead>\n",
       "  <tbody>\n",
       "    <tr>\n",
       "      <th>0</th>\n",
       "      <td>0.0</td>\n",
       "      <td>1.000000</td>\n",
       "      <td>-0.000000</td>\n",
       "      <td>0.999002</td>\n",
       "      <td>0.000486</td>\n",
       "      <td>-3.796915</td>\n",
       "      <td>3.558243</td>\n",
       "    </tr>\n",
       "    <tr>\n",
       "      <th>1</th>\n",
       "      <td>0.1</td>\n",
       "      <td>0.606531</td>\n",
       "      <td>0.372883</td>\n",
       "      <td>0.619310</td>\n",
       "      <td>0.356311</td>\n",
       "      <td>-3.157286</td>\n",
       "      <td>2.815378</td>\n",
       "    </tr>\n",
       "    <tr>\n",
       "      <th>2</th>\n",
       "      <td>0.2</td>\n",
       "      <td>0.367879</td>\n",
       "      <td>0.563564</td>\n",
       "      <td>0.367545</td>\n",
       "      <td>0.563562</td>\n",
       "      <td>-2.006304</td>\n",
       "      <td>1.486933</td>\n",
       "    </tr>\n",
       "    <tr>\n",
       "      <th>3</th>\n",
       "      <td>0.3</td>\n",
       "      <td>0.223130</td>\n",
       "      <td>0.647110</td>\n",
       "      <td>0.218050</td>\n",
       "      <td>0.653697</td>\n",
       "      <td>-1.176545</td>\n",
       "      <td>0.547188</td>\n",
       "    </tr>\n",
       "    <tr>\n",
       "      <th>4</th>\n",
       "      <td>0.4</td>\n",
       "      <td>0.135335</td>\n",
       "      <td>0.668731</td>\n",
       "      <td>0.132236</td>\n",
       "      <td>0.673000</td>\n",
       "      <td>-0.680613</td>\n",
       "      <td>0.008904</td>\n",
       "    </tr>\n",
       "    <tr>\n",
       "      <th>5</th>\n",
       "      <td>0.5</td>\n",
       "      <td>0.082085</td>\n",
       "      <td>0.655557</td>\n",
       "      <td>0.081927</td>\n",
       "      <td>0.655478</td>\n",
       "      <td>-0.406196</td>\n",
       "      <td>-0.260511</td>\n",
       "    </tr>\n",
       "    <tr>\n",
       "      <th>6</th>\n",
       "      <td>0.6</td>\n",
       "      <td>0.049787</td>\n",
       "      <td>0.623781</td>\n",
       "      <td>0.050996</td>\n",
       "      <td>0.620898</td>\n",
       "      <td>-0.253865</td>\n",
       "      <td>-0.379319</td>\n",
       "    </tr>\n",
       "    <tr>\n",
       "      <th>7</th>\n",
       "      <td>0.7</td>\n",
       "      <td>0.030197</td>\n",
       "      <td>0.582985</td>\n",
       "      <td>0.031154</td>\n",
       "      <td>0.579614</td>\n",
       "      <td>-0.163413</td>\n",
       "      <td>-0.420609</td>\n",
       "    </tr>\n",
       "    <tr>\n",
       "      <th>8</th>\n",
       "      <td>0.8</td>\n",
       "      <td>0.018316</td>\n",
       "      <td>0.538767</td>\n",
       "      <td>0.018314</td>\n",
       "      <td>0.536776</td>\n",
       "      <td>-0.103556</td>\n",
       "      <td>-0.423863</td>\n",
       "    </tr>\n",
       "    <tr>\n",
       "      <th>9</th>\n",
       "      <td>0.9</td>\n",
       "      <td>0.011109</td>\n",
       "      <td>0.494326</td>\n",
       "      <td>0.010443</td>\n",
       "      <td>0.494842</td>\n",
       "      <td>-0.059301</td>\n",
       "      <td>-0.409285</td>\n",
       "    </tr>\n",
       "    <tr>\n",
       "      <th>10</th>\n",
       "      <td>1.0</td>\n",
       "      <td>0.006738</td>\n",
       "      <td>0.451427</td>\n",
       "      <td>0.006454</td>\n",
       "      <td>0.454919</td>\n",
       "      <td>-0.039892</td>\n",
       "      <td>-0.399229</td>\n",
       "    </tr>\n",
       "  </tbody>\n",
       "</table>\n",
       "</div>"
      ],
      "text/plain": [
       "      t       u_0       u_1  u_0_pred  u_1_pred    du0_dt    du1_dt\n",
       "0   0.0  1.000000 -0.000000  0.999002  0.000486 -3.796915  3.558243\n",
       "1   0.1  0.606531  0.372883  0.619310  0.356311 -3.157286  2.815378\n",
       "2   0.2  0.367879  0.563564  0.367545  0.563562 -2.006304  1.486933\n",
       "3   0.3  0.223130  0.647110  0.218050  0.653697 -1.176545  0.547188\n",
       "4   0.4  0.135335  0.668731  0.132236  0.673000 -0.680613  0.008904\n",
       "5   0.5  0.082085  0.655557  0.081927  0.655478 -0.406196 -0.260511\n",
       "6   0.6  0.049787  0.623781  0.050996  0.620898 -0.253865 -0.379319\n",
       "7   0.7  0.030197  0.582985  0.031154  0.579614 -0.163413 -0.420609\n",
       "8   0.8  0.018316  0.538767  0.018314  0.536776 -0.103556 -0.423863\n",
       "9   0.9  0.011109  0.494326  0.010443  0.494842 -0.059301 -0.409285\n",
       "10  1.0  0.006738  0.451427  0.006454  0.454919 -0.039892 -0.399229"
      ]
     },
     "execution_count": 39,
     "metadata": {},
     "output_type": "execute_result"
    }
   ],
   "source": [
    "import pandas as pd\n",
    "import numpy as np\n",
    "from scipy.optimize import minimize\n",
    "from scipy.integrate import odeint\n",
    "\n",
    "try:\n",
    "    obs_data = pd.read_csv('ANN_data_old.csv', index_col=False)\n",
    "except FileNotFoundError:    \n",
    "    obs_data['u_0_pred'] = model.predict(t_exp)[:,0]\n",
    "    obs_data['u_1_pred'] = model.predict(t_exp)[:,1]\n",
    "    obs_data['du0_dt'] = np.gradient(obs_data['u_0_pred'], obs_data['t'])\n",
    "    obs_data['du1_dt'] = np.gradient(obs_data['u_1_pred'], obs_data['t'])\n",
    "    obs_data.to_csv('ANN_data.csv', index=False)\n",
    "\n",
    "obs_data"
   ]
  },
  {
   "cell_type": "code",
   "execution_count": 41,
   "metadata": {},
   "outputs": [
    {
     "data": {
      "text/plain": [
       "array([-3.7969154 , -3.1572862 , -2.00630345, -1.17654465, -0.680613  ,\n",
       "       -0.40619604, -0.25386482, -0.16341269, -0.10355562, -0.05930126,\n",
       "       -0.0398925 ])"
      ]
     },
     "execution_count": 41,
     "metadata": {},
     "output_type": "execute_result"
    }
   ],
   "source": [
    "np.gradient(obs_data['u_0_pred'], obs_data['t'])"
   ]
  },
  {
   "cell_type": "code",
   "execution_count": 40,
   "metadata": {},
   "outputs": [
    {
     "data": {
      "text/plain": [
       "array([[-4.995009  ,  4.99452264],\n",
       "       [-3.0965513 ,  2.74024066],\n",
       "       [-1.8377228 ,  1.27416076],\n",
       "       [-1.09024785,  0.43655065],\n",
       "       [-0.66117815, -0.01182159],\n",
       "       [-0.40963485, -0.24584309],\n",
       "       [-0.25498212, -0.36591542],\n",
       "       [-0.15577004, -0.42384416],\n",
       "       [-0.09156942, -0.44520627],\n",
       "       [-0.05221442, -0.44262725],\n",
       "       [-0.03226817, -0.4226506 ]])"
      ]
     },
     "execution_count": 40,
     "metadata": {},
     "output_type": "execute_result"
    }
   ],
   "source": [
    "np.array([-5 * obs_data['u_0_pred'].values, 5 * obs_data['u_0_pred'].values - 1 * obs_data['u_1_pred'].values]).T\n"
   ]
  },
  {
   "cell_type": "code",
   "execution_count": 25,
   "metadata": {},
   "outputs": [
    {
     "data": {
      "text/plain": [
       "array([4.19147144, 0.72436078])"
      ]
     },
     "execution_count": 25,
     "metadata": {},
     "output_type": "execute_result"
    }
   ],
   "source": [
    "# Define function to minimize\n",
    "def L(x):\n",
    "    k_1, k_2 = x\n",
    "    \n",
    "    duANN_dt = np.column_stack((obs_data['du0_dt'], obs_data['du1_dt']))\n",
    "    f_ANN =  np.array([-k_1 * obs_data['u_0_pred'].values, k_1 * obs_data['u_0_pred'].values - k_2 * obs_data['u_1_pred'].values]).T\n",
    "    return 0.5 * np.sum((duANN_dt - f_ANN)**2)\n",
    "\n",
    "# Initial guess\n",
    "x0 = [1, 1]\n",
    "\n",
    "# Minimize\n",
    "res = minimize(L, x0, method='Nelder-Mead')\n",
    "res.x"
   ]
  },
  {
   "cell_type": "code",
   "execution_count": 26,
   "metadata": {},
   "outputs": [
    {
     "data": {
      "text/plain": [
       "array([5.00003592, 1.00000737])"
      ]
     },
     "execution_count": 26,
     "metadata": {},
     "output_type": "execute_result"
    }
   ],
   "source": [
    "def P_1(p):\n",
    "    k_1, k_2 = p\n",
    "    def model_ode(z, t):\n",
    "        u_0, u_1 = z\n",
    "        return [-k_1*u_0, k_1*u_0 - k_2*u_1]\n",
    "    \n",
    "    exp = np.column_stack((obs_data['u_0'], obs_data['u_1']))\n",
    "    z_ode = odeint(model_ode,  [1,0], obs_data['t'])\n",
    "    return 0.5 * np.sum((exp - z_ode)**2)\n",
    "\n",
    "x0 = [res.x[0], res.x[1]]\n",
    "# x0 = [1,1]\n",
    "res = minimize(P_1, x0, method='Nelder-Mead')\n",
    "res.x\n",
    "    "
   ]
  },
  {
   "cell_type": "code",
   "execution_count": null,
   "metadata": {},
   "outputs": [],
   "source": []
  }
 ],
 "metadata": {
  "kernelspec": {
   "display_name": "synthetic",
   "language": "python",
   "name": "python3"
  },
  "language_info": {
   "codemirror_mode": {
    "name": "ipython",
    "version": 3
   },
   "file_extension": ".py",
   "mimetype": "text/x-python",
   "name": "python",
   "nbconvert_exporter": "python",
   "pygments_lexer": "ipython3",
   "version": "3.10.12"
  }
 },
 "nbformat": 4,
 "nbformat_minor": 2
}
