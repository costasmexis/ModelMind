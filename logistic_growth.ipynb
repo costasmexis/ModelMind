{
 "cells": [
  {
   "cell_type": "code",
   "execution_count": null,
   "metadata": {},
   "outputs": [],
   "source": [
    "import numpy as np\n",
    "from scipy.integrate import odeint, solve_ivp"
   ]
  },
  {
   "cell_type": "code",
   "execution_count": null,
   "metadata": {},
   "outputs": [],
   "source": [
    "def logistic_growth(t, p, r, k, h, H_max):\n",
    "    \"\"\"\n",
    "    ODE for logistic growth model.\n",
    "    \n",
    "    Inputs:\n",
    "    -------\n",
    "    t: time\n",
    "    p: population size\n",
    "    r: intrinsic growth rate\n",
    "    k: carrying capacity\n",
    "    h: harvesting rate\n",
    "    H_max: maximum harvesting capacity\n",
    "    \n",
    "    Output:\n",
    "    -------\n",
    "    dpdt: Change rate of population size.\n",
    "    \"\"\"\n",
    "    \n",
    "    dpdt = r*p*(1-p/k) - min(h*p, H_max)\n",
    "    \n",
    "    return dpdt"
   ]
  },
  {
   "cell_type": "code",
   "execution_count": null,
   "metadata": {},
   "outputs": [],
   "source": [
    "# Set parameters\n",
    "r, k, h, H_max = 0.1, 1000, 0.01, 5\n",
    "# Initial condition\n",
    "p_0 = 20 \n",
    "# Simulation time span\n",
    "t_span = (0, 100)  \n",
    "t_eval = np.linspace(t_span[0], t_span[1], 10000) \n",
    "\n",
    "# Solve ODE\n",
    "solution = solve_ivp(logistic_growth, t_span, [p_0], \n",
    "                     t_eval=t_eval, args=(r, k, h, H_max))"
   ]
  }
 ],
 "metadata": {
  "language_info": {
   "name": "python"
  }
 },
 "nbformat": 4,
 "nbformat_minor": 2
}
