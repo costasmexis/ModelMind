{
 "cells": [
  {
   "cell_type": "markdown",
   "metadata": {},
   "source": [
    "### Very Simple Example (single reaction)"
   ]
  },
  {
   "cell_type": "code",
   "execution_count": 1,
   "metadata": {},
   "outputs": [
    {
     "data": {
      "text/plain": [
       "<torch._C.Generator at 0x7f2b2c33e870>"
      ]
     },
     "execution_count": 1,
     "metadata": {},
     "output_type": "execute_result"
    }
   ],
   "source": [
    "import functools\n",
    "import matplotlib.pyplot as plt\n",
    "import numpy as np\n",
    "import torch\n",
    "import torch.nn as nn\n",
    "import seaborn as sns\n",
    "from tqdm import tqdm\n",
    "from scipy.integrate import solve_ivp, odeint\n",
    "\n",
    "DEVICE = torch.device('cuda' if torch.cuda.is_available() else 'cpu')\n",
    "\n",
    "sns.set_theme()\n",
    "torch.manual_seed(42)"
   ]
  },
  {
   "cell_type": "code",
   "execution_count": 2,
   "metadata": {},
   "outputs": [
    {
     "data": {
      "image/png": "[encoded data removed]",
      "text/plain": [
       "<Figure size 400x300 with 1 Axes>"
      ]
     },
     "metadata": {},
     "output_type": "display_data"
    }
   ],
   "source": [
    "# Define the system of ODEs\n",
    "def model(y, t, k1):\n",
    "    dy1dt = -k1 * y\n",
    "    return dy1dt\n",
    "\n",
    "y0 = 1\n",
    "T_START = 0\n",
    "T_END = 2\n",
    "t = np.linspace(T_START, T_END, 100)  # Adjust the time range as needed\n",
    "k1 = 5\n",
    "solution = odeint(model, y0, t, args=(k1,))\n",
    "\n",
    "# Analytic ODE solution\n",
    "z_1 = lambda t: np.exp(-5 * t)\n",
    "\n",
    "# Create true data\n",
    "t_true = torch.from_numpy(t).float().view(-1,1).to(DEVICE)\n",
    "y_true = torch.from_numpy(solution).float().to(DEVICE)\n",
    "\n",
    "# Make training data\n",
    "n_samples = 10\n",
    "t_train = torch.linspace(T_START, 0.3, n_samples).view(-1,1).requires_grad_(True).to(DEVICE)\n",
    "y_train = z_1(t_train.cpu().detach().numpy())\n",
    "\n",
    "# Plot true and training data \n",
    "plt.figure(figsize=(4,3))\n",
    "plt.plot(t_true.cpu().numpy(), y_true .cpu().numpy())\n",
    "plt.plot(t_train.cpu().detach().numpy(), y_train, 'o')\n",
    "plt.show()"
   ]
  },
  {
   "cell_type": "code",
   "execution_count": 3,
   "metadata": {},
   "outputs": [],
   "source": [
    "def grad(outputs, inputs):\n",
    "    \"\"\" Computes the partial derivative of \n",
    "    an output wrt an input.\n",
    "    Args:\n",
    "        outputs: (N, 1) tensor\n",
    "        inputs: (N, D) tensor\n",
    "    \"\"\"\n",
    "    return torch.autograd.grad(outputs, inputs, grad_outputs=torch.ones_like(outputs), create_graph=True, retain_graph=True, allow_unused=True)"
   ]
  },
  {
   "cell_type": "code",
   "execution_count": 4,
   "metadata": {},
   "outputs": [],
   "source": [
    "def np_to_ts(x):\n",
    "    n_samples = len(x)\n",
    "    return torch.from_numpy(x).to(torch.float).to(DEVICE).reshape(n_samples, -1)\n",
    "\n",
    "class Net(nn.Module):\n",
    "    def __init__(self, input_dim, output_dim, n_units=100) -> None:\n",
    "        \n",
    "        super().__init__()\n",
    "        self.n_units = n_units\n",
    "        \n",
    "        self.k = nn.Parameter(torch.tensor([3.]).to(DEVICE))\n",
    "            \n",
    "        self.layers = nn.Sequential(\n",
    "            nn.Linear(input_dim, self.n_units),\n",
    "            nn.ReLU(),\n",
    "            nn.Linear(self.n_units, self.n_units),\n",
    "            nn.ReLU(),\n",
    "        )\n",
    "        self.out = nn.Linear(self.n_units, output_dim)\n",
    "        \n",
    "    def forward(self, x):\n",
    "        h = self.layers(x)\n",
    "        out = self.out(h)\n",
    "        return out\n",
    "    \n",
    "    def predict(self, X):\n",
    "        self.eval()\n",
    "        out = self.forward(np_to_ts(X))\n",
    "        return out.detach().cpu().numpy()\n",
    "    \n",
    "y_train = np_to_ts(y_train)"
   ]
  },
  {
   "cell_type": "code",
   "execution_count": 5,
   "metadata": {},
   "outputs": [],
   "source": [
    "def physics_loss(model: torch.nn.Module):\n",
    "    ts = torch.linspace(T_START, T_END, 1000).view(-1,1).requires_grad_(True).to(DEVICE)\n",
    "    y = model(ts)\n",
    "    dy = grad(y, ts)[0]\n",
    "    ode = dy + 5 * y\n",
    "    return torch.mean(ode**2)"
   ]
  },
  {
   "cell_type": "code",
   "execution_count": 8,
   "metadata": {},
   "outputs": [
    {
     "name": "stdout",
     "output_type": "stream",
     "text": [
      "Epoch 0, loss 0.6517, k = 3.0, Loss ODE = 0.13639138638973236\n",
      "Epoch 500, loss 0.3295, k = 3.0, Loss ODE = 0.010323998518288136\n",
      "Epoch 1000, loss 0.3295, k = 3.0, Loss ODE = 0.010323998518288136\n",
      "Epoch 1500, loss 0.3295, k = 3.0, Loss ODE = 0.010323998518288136\n",
      "Epoch 2000, loss 0.3295, k = 3.0, Loss ODE = 0.010323998518288136\n",
      "Epoch 2500, loss 0.3295, k = 3.0, Loss ODE = 0.010323998518288136\n",
      "Epoch 3000, loss 0.3295, k = 3.0, Loss ODE = 0.010323998518288136\n",
      "Epoch 3500, loss 0.3295, k = 3.0, Loss ODE = 0.010323998518288136\n",
      "Epoch 4000, loss 0.3295, k = 3.0, Loss ODE = 0.010323998518288136\n",
      "Epoch 4500, loss 0.3295, k = 3.0, Loss ODE = 0.010323998518288136\n",
      "Epoch 5000, loss 0.3295, k = 3.0, Loss ODE = 0.010323998518288136\n",
      "Epoch 5500, loss 0.3295, k = 3.0, Loss ODE = 0.010323998518288136\n",
      "Epoch 6000, loss 0.3295, k = 3.0, Loss ODE = 0.010323998518288136\n",
      "Epoch 6500, loss 0.3295, k = 3.0, Loss ODE = 0.010323998518288136\n",
      "Epoch 7000, loss 0.3295, k = 3.0, Loss ODE = 0.010323998518288136\n",
      "Epoch 7500, loss 0.3295, k = 3.0, Loss ODE = 0.010323998518288136\n",
      "Epoch 8000, loss 0.3295, k = 3.0, Loss ODE = 0.010323998518288136\n",
      "Epoch 8500, loss 0.3295, k = 3.0, Loss ODE = 0.010323998518288136\n",
      "Epoch 9000, loss 0.3295, k = 3.0, Loss ODE = 0.010323998518288136\n",
      "Epoch 9500, loss 0.3295, k = 3.0, Loss ODE = 0.010323998518288136\n"
     ]
    }
   ],
   "source": [
    "net = Net(1,1, n_units=5).to(DEVICE)\n",
    "criterion = nn.MSELoss()\n",
    "optimizer = torch.optim.Adam(net.parameters(), lr=1e-1)\n",
    "\n",
    "EPOCHS = 10000\n",
    "for epoch in range(EPOCHS):\n",
    "\n",
    "    y_pred = net.forward(t_train)\n",
    "    loss_data = criterion(y_pred, y_train) \n",
    "    \n",
    "    y_t = grad(y_pred, t_train)[0]\n",
    "    \n",
    "    loss_ode = physics_loss(net)\n",
    "    \n",
    "    loss = loss_data + loss_ode  \n",
    "    \n",
    "    optimizer.zero_grad()\n",
    "    loss.backward()\n",
    "    optimizer.step()\n",
    "    \n",
    "    if epoch % 500 == 0:\n",
    "        print(f'Epoch {epoch}, loss {round(loss.item(),4)}, k = {net.k.item()}, Loss ODE = {loss_ode.item()}')"
   ]
  },
  {
   "cell_type": "code",
   "execution_count": 9,
   "metadata": {},
   "outputs": [
    {
     "data": {
      "image/png": "[encoded data removed]",
      "text/plain": [
       "<Figure size 400x300 with 1 Axes>"
      ]
     },
     "metadata": {},
     "output_type": "display_data"
    }
   ],
   "source": [
    "pred = net.predict(t_true.detach().numpy())\n",
    "\n",
    "# Plot true and training data\n",
    "plt.figure(figsize=(4,3))\n",
    "plt.plot(t_true.detach().numpy(), y_true .cpu().numpy(), label='True')\n",
    "plt.plot(t_true.detach().numpy(), pred, label='Pred')\n",
    "plt.legend()\n",
    "plt.show()"
   ]
  },
  {
   "cell_type": "code",
   "execution_count": null,
   "metadata": {},
   "outputs": [],
   "source": [
    "net.k"
   ]
  },
  {
   "cell_type": "code",
   "execution_count": null,
   "metadata": {},
   "outputs": [],
   "source": [
    "1/0"
   ]
  },
  {
   "cell_type": "code",
   "execution_count": null,
   "metadata": {},
   "outputs": [],
   "source": []
  },
  {
   "cell_type": "code",
   "execution_count": null,
   "metadata": {},
   "outputs": [],
   "source": []
  },
  {
   "cell_type": "code",
   "execution_count": null,
   "metadata": {},
   "outputs": [],
   "source": []
  },
  {
   "cell_type": "code",
   "execution_count": null,
   "metadata": {},
   "outputs": [],
   "source": []
  },
  {
   "cell_type": "code",
   "execution_count": null,
   "metadata": {},
   "outputs": [],
   "source": []
  },
  {
   "cell_type": "code",
   "execution_count": null,
   "metadata": {},
   "outputs": [],
   "source": [
    "import functools\n",
    "import matplotlib.pyplot as plt\n",
    "import numpy as np\n",
    "import torch\n",
    "import torch.nn as nn\n",
    "import seaborn as sns\n",
    "from tqdm import tqdm\n",
    "from scipy.integrate import solve_ivp, odeint\n",
    "\n",
    "DEVICE = torch.device('cuda' if torch.cuda.is_available() else 'cpu')\n",
    "\n",
    "sns.set_theme()\n",
    "torch.manual_seed(42)"
   ]
  },
  {
   "cell_type": "code",
   "execution_count": null,
   "metadata": {},
   "outputs": [],
   "source": [
    "# Define the system of ODEs\n",
    "def model(y, t, k1, k2):\n",
    "    dy1dt = -k1 * y[0]\n",
    "    dy2dt = k1 * y[0] - k2 * y[1]\n",
    "    return [dy1dt, dy2dt]\n",
    "\n",
    "y0 = [1, 0]\n",
    "T_START = 0\n",
    "T_END = 2\n",
    "t = np.linspace(T_START, T_END, 100)  # Adjust the time range as needed\n",
    "k1 = 5\n",
    "k2 = 1\n",
    "solution = odeint(model, y0, t, args=(k1, k2))\n",
    "\n",
    "# Analytic ODE solution\n",
    "z_1 = lambda t: np.exp(-5 * t)\n",
    "z_2 = lambda t: 5/4 * np.exp(-5 * t) * (np.exp(4 * t) - 1)\n",
    "\n",
    "# Create true data\n",
    "t_true = torch.from_numpy(t).float().view(-1,1).to(DEVICE)\n",
    "y_true = torch.from_numpy(solution).float().to(DEVICE)\n",
    "\n",
    "# Make training data\n",
    "n_samples = 24\n",
    "t_train = torch.linspace(T_START, T_END, n_samples).view(-1,1).requires_grad_(True).to(DEVICE)\n",
    "y_train = np.column_stack([z_1(t_train.cpu().detach().numpy()), z_2(t_train.cpu().detach().numpy())])\n",
    "# Add small white noise to the training data\n",
    "# y_train += 0.006 * torch.randn(n_samples, 2).to(DEVICE)\n",
    "\n",
    "\n",
    "# Plot true and training data \n",
    "plt.plot(t_true.cpu().numpy(), y_true[:, 0] .cpu().numpy())\n",
    "plt.plot(t_true.cpu().numpy(), y_true[:, 1] .cpu().numpy())\n",
    "plt.plot(t_train.cpu().detach().numpy(), y_train[:, 0], 'o')\n",
    "plt.plot(t_train.cpu().detach().numpy(), y_train[:, 1], 'o')\n",
    "plt.show()"
   ]
  },
  {
   "cell_type": "code",
   "execution_count": null,
   "metadata": {},
   "outputs": [],
   "source": [
    "def grad(outputs, inputs):\n",
    "    \"\"\" Computes the partial derivative of \n",
    "    an output wrt an input.\n",
    "    Args:\n",
    "        outputs: (N, 1) tensor\n",
    "        inputs: (N, D) tensor\n",
    "    \"\"\"\n",
    "    return torch.autograd.grad(outputs, inputs, grad_outputs=torch.ones_like(outputs), create_graph=True)"
   ]
  },
  {
   "cell_type": "code",
   "execution_count": null,
   "metadata": {},
   "outputs": [],
   "source": [
    "def np_to_ts(x):\n",
    "    n_samples = len(x)\n",
    "    return torch.from_numpy(x).to(torch.float).to(DEVICE).reshape(n_samples, -1)\n",
    "\n",
    "class Net(nn.Module):\n",
    "    def __init__(self, input_dim, output_dim, n_units=100) -> None:\n",
    "        \n",
    "        super().__init__()\n",
    "        self.n_units = n_units\n",
    "        \n",
    "        self.layers = nn.Sequential(\n",
    "            nn.Linear(input_dim, self.n_units),\n",
    "            nn.ReLU(),\n",
    "            nn.Linear(self.n_units, self.n_units),\n",
    "            nn.ReLU(),\n",
    "            nn.Linear(self.n_units, self.n_units),\n",
    "            nn.ReLU(),\n",
    "            nn.Linear(self.n_units, self.n_units),\n",
    "            nn.ReLU(),\n",
    "        )\n",
    "        self.out = nn.Linear(self.n_units, output_dim)\n",
    "        \n",
    "    def forward(self, x):\n",
    "        h = self.layers(x)\n",
    "        out = self.out(h)\n",
    "        return out\n",
    "        \n",
    "    def predict(self, X):\n",
    "        self.eval()\n",
    "        out = self.forward(np_to_ts(X))\n",
    "        return out.detach().cpu().numpy()\n",
    "    \n",
    "class ParameterEstimation(Net):\n",
    "    def __init__(self, input_dim, output_dim, n_units=100) -> None:\n",
    "        super().__init__(input_dim, output_dim, n_units)\n",
    "        \n",
    "        self.k_1 = nn.Parameter(data=torch.tensor([1.]))\n",
    "        self.k_2 = nn.Parameter(data=torch.tensor([1.]))"
   ]
  },
  {
   "cell_type": "code",
   "execution_count": null,
   "metadata": {},
   "outputs": [],
   "source": [
    "net = ParameterEstimation(1,2, n_units=10).to(DEVICE)\n",
    "criterion = nn.MSELoss()\n",
    "optimizer = torch.optim.Adam(net.parameters(), lr=0.0001)\n",
    "\n",
    "y_train = np_to_ts(y_train)\n",
    "\n",
    "EPOCHS = 10000\n",
    "for epoch in range(EPOCHS):\n",
    "    # Forward pass\n",
    "    y_pred = net(t_train)\n",
    "    loss = criterion(y_pred, y_train) \n",
    "    loss.backward()\n",
    "    optimizer.step()\n",
    "    if epoch % 500 == 0:\n",
    "        print(f'Epoch {epoch}, loss {round(loss.item(),4)}')"
   ]
  },
  {
   "cell_type": "code",
   "execution_count": null,
   "metadata": {},
   "outputs": [],
   "source": [
    "# Plot true and pred on t_train\n",
    "y_pred = net(t_train)\n",
    "plt.plot(t_true.cpu().numpy(), y_true[:, 0].cpu().numpy())\n",
    "plt.plot(t_true.cpu().numpy(), y_true[:, 1].cpu().numpy())\n",
    "plt.plot(t_train.cpu().detach().numpy(), y_pred[:, 0].detach().cpu().numpy())\n",
    "plt.plot(t_train.cpu().detach().numpy(), y_pred[:, 1].detach().cpu().numpy())\n",
    "plt.show()"
   ]
  },
  {
   "cell_type": "code",
   "execution_count": null,
   "metadata": {},
   "outputs": [],
   "source": [
    "from scipy.optimize import minimize\n",
    "\n",
    "dy_pred = grad(y_pred[:,0], t_train)[0].cpu().detach().numpy()\n",
    "\n",
    "y_train_np = y_train[:,0].cpu().detach().numpy()\n",
    "\n",
    "def objective(k):\n",
    "    return np.sum((dy_pred - (-k * y_train_np))**2)\n",
    "\n",
    "result = minimize(objective, 1)\n",
    "result.x"
   ]
  },
  {
   "cell_type": "code",
   "execution_count": null,
   "metadata": {},
   "outputs": [],
   "source": [
    "from scipy.optimize import minimize_scalar\n",
    "\n",
    "def objective(k_1):\n",
    "    return torch.sum(grad(y_pred[:,0], t_train) - k_1 * y_pred[:,0])**2\n",
    "\n",
    "result = minimize_scalar(objective)\n",
    "optimal_k_1 = result.x\n",
    "\n",
    "print(\"Optimal k_1:\", optimal_k_1)\n",
    "grad(y_pred[:,0], t_train) - k_1 * y_pred[:,0]"
   ]
  }
 ],
 "metadata": {
  "kernelspec": {
   "display_name": "main",
   "language": "python",
   "name": "python3"
  },
  "language_info": {
   "codemirror_mode": {
    "name": "ipython",
    "version": 3
   },
   "file_extension": ".py",
   "mimetype": "text/x-python",
   "name": "python",
   "nbconvert_exporter": "python",
   "pygments_lexer": "ipython3",
   "version": "3.10.12"
  }
 },
 "nbformat": 4,
 "nbformat_minor": 2
}
