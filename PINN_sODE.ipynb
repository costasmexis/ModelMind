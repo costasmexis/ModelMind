{
 "cells": [
  {
   "cell_type": "markdown",
   "metadata": {},
   "source": [
    "### Very Simple Example (single reaction)"
   ]
  },
  {
   "cell_type": "code",
   "execution_count": 1,
   "metadata": {},
   "outputs": [
    {
     "data": {
      "text/plain": [
       "<torch._C.Generator at 0x7f3b6b29f2d0>"
      ]
     },
     "execution_count": 1,
     "metadata": {},
     "output_type": "execute_result"
    }
   ],
   "source": [
    "import functools\n",
    "import matplotlib.pyplot as plt\n",
    "import numpy as np\n",
    "import torch\n",
    "import torch.nn as nn\n",
    "import seaborn as sns\n",
    "from tqdm import tqdm\n",
    "from scipy.integrate import solve_ivp, odeint\n",
    "\n",
    "DEVICE = torch.device('cuda' if torch.cuda.is_available() else 'cpu')\n",
    "\n",
    "sns.set_theme()\n",
    "torch.manual_seed(42)"
   ]
  },
  {
   "cell_type": "code",
   "execution_count": 2,
   "metadata": {},
   "outputs": [],
   "source": [
    "# Define the system of ODEs\n",
    "def model(y, t, k1, k2):\n",
    "    dy1dt = -k1 * y[0]\n",
    "    dy2dt = k1 * y[0] - k2 * y[1]\n",
    "    return [dy1dt, dy2dt]\n",
    "\n",
    "y0 = [1, 0]  # Initial conditions\n",
    "T_START = 0\n",
    "T_END = 2\n",
    "t = np.linspace(T_START, T_END, 100)  # Adjust the time range as needed\n",
    "k1 = 5\n",
    "k2 = 1\n",
    "solution = odeint(model, y0, t, args=(k1,k2))"
   ]
  },
  {
   "cell_type": "code",
   "execution_count": 3,
   "metadata": {},
   "outputs": [
    {
     "data": {
      "image/png": "[encoded data removed]",
      "text/plain": [
       "<Figure size 400x300 with 1 Axes>"
      ]
     },
     "metadata": {},
     "output_type": "display_data"
    }
   ],
   "source": [
    "# Analytic ODE solution\n",
    "z_1 = lambda t: np.exp(-5 * t)\n",
    "z_2 = lambda t: 5/4 * np.exp(-5 * t) * (-1 + np.exp(4 * t))\n",
    "\n",
    "# Create true data\n",
    "t_true = torch.from_numpy(t).float().view(-1,1).to(DEVICE)\n",
    "y_true = torch.from_numpy(solution).float().to(DEVICE)\n",
    "\n",
    "# Make training data\n",
    "n_samples = 10\n",
    "t_train = torch.linspace(T_START, 2, n_samples).view(-1,1).requires_grad_(True).to(DEVICE)\n",
    "y_train_1 = z_1(t_train.cpu().detach().numpy())\n",
    "y_train_2 = z_2(t_train.cpu().detach().numpy())\n",
    "# Stack the two solutions using numpy \n",
    "y_train = np.hstack((y_train_1, y_train_2))\n",
    "\n",
    "# Plot true and training data \n",
    "plt.figure(figsize=(4,3))\n",
    "plt.plot(t_true.cpu().numpy(), y_true .cpu().numpy())\n",
    "plt.plot(t_train.cpu().detach().numpy(), y_train[:,0], 'o')\n",
    "plt.plot(t_train.cpu().detach().numpy(), y_train[:,1], 'o')\n",
    "plt.show()"
   ]
  },
  {
   "cell_type": "code",
   "execution_count": 20,
   "metadata": {},
   "outputs": [],
   "source": [
    "# Make a NN for u\n",
    "class Network(nn.Module):\n",
    "    def __init__(self):\n",
    "        super(Network, self).__init__()\n",
    "        self.fc1 = nn.Linear(1, 5)\n",
    "        self.fc2 = nn.Linear(5, 10)\n",
    "        self.fc3 = nn.Linear(10, 2)\n",
    "        \n",
    "        self.k2 = nn.Parameter(torch.tensor([1.0]))\n",
    "        self.k1 = nn.Parameter(torch.tensor([1.0]))\n",
    "        \n",
    "    def forward(self, x):\n",
    "        x = torch.tanh(self.fc1(x))\n",
    "        x = torch.tanh(self.fc2(x))\n",
    "        x = self.fc3(x)\n",
    "        return x"
   ]
  },
  {
   "cell_type": "code",
   "execution_count": 5,
   "metadata": {},
   "outputs": [
    {
     "name": "stderr",
     "output_type": "stream",
     "text": [
      "/tmp/ipykernel_1536510/3687197062.py:2: UserWarning: To copy construct from a tensor, it is recommended to use sourceTensor.clone().detach() or sourceTensor.clone().detach().requires_grad_(True), rather than torch.tensor(sourceTensor).\n",
      "  ts_train = torch.tensor(t_train, requires_grad=True).float().to(DEVICE)\n"
     ]
    }
   ],
   "source": [
    "# Train data to tensor\n",
    "ts_train = torch.tensor(t_train, requires_grad=True).float().to(DEVICE)\n",
    "us_train = torch.tensor(y_train, requires_grad=True).float().to(DEVICE)"
   ]
  },
  {
   "cell_type": "code",
   "execution_count": 55,
   "metadata": {},
   "outputs": [],
   "source": [
    "def residuals(t, model: nn.Module):\n",
    "    t = torch.linspace(T_START, T_END, 500).view(-1,1).to(DEVICE)\n",
    "    t.requires_grad = True  \n",
    "    u = model(t).to(DEVICE)\n",
    "    u_t_1  = torch.autograd.grad(u[:,0], t, grad_outputs=torch.ones_like(u[:,0]), create_graph=True)[0]\n",
    "    u_t_2  = torch.autograd.grad(u[:,1], t, grad_outputs=torch.ones_like(u[:,1]), create_graph=True)[0]\n",
    "    error_1 = u_t_1 - (-model.k1 * u[:,0])\n",
    "    error_2 = u_t_2 - (model.k1 * u[:,0] - model.k2 * u[:,1])\n",
    "    e_1 = torch.mean(error_1)\n",
    "    e_2 = torch.mean(error_2)\n",
    "    return e_1**2+e_2**2"
   ]
  },
  {
   "cell_type": "code",
   "execution_count": 56,
   "metadata": {},
   "outputs": [
    {
     "name": "stdout",
     "output_type": "stream",
     "text": [
      "Epoch [0/20000] Loss: 0.5741445422172546, k1: 1.0010000467300415, k2: 0.9990000128746033\n"
     ]
    },
    {
     "name": "stdout",
     "output_type": "stream",
     "text": [
      "Epoch [500/20000] Loss: 0.03022802248597145, k1: 1.3768224716186523, k2: 0.873659610748291\n",
      "Epoch [1000/20000] Loss: 0.018358364701271057, k1: 1.7658909559249878, k2: 0.7976120114326477\n",
      "Epoch [1500/20000] Loss: 0.0036615801509469748, k1: 2.100208282470703, k2: 0.7533513903617859\n",
      "Epoch [2000/20000] Loss: 0.001196945202536881, k1: 2.424553155899048, k2: 0.7017205953598022\n",
      "Epoch [2500/20000] Loss: 0.0006627768743783236, k1: 2.697190523147583, k2: 0.6681424975395203\n",
      "Epoch [3000/20000] Loss: 0.0004188283928669989, k1: 2.9236865043640137, k2: 0.6654059886932373\n",
      "Epoch [3500/20000] Loss: 0.0002761092910077423, k1: 3.123147487640381, k2: 0.6840437650680542\n",
      "Epoch [4000/20000] Loss: 0.0001841190387494862, k1: 3.305441379547119, k2: 0.7127739191055298\n",
      "Epoch [4500/20000] Loss: 0.0001219053883687593, k1: 3.4739551544189453, k2: 0.7444193363189697\n",
      "Epoch [5000/20000] Loss: 7.97373941168189e-05, k1: 3.629204511642456, k2: 0.7752061486244202\n",
      "Epoch [5500/20000] Loss: 5.1750426791841164e-05, k1: 3.7708117961883545, k2: 0.8034670352935791\n",
      "Epoch [6000/20000] Loss: 3.360597838764079e-05, k1: 3.8983688354492188, k2: 0.8287639021873474\n",
      "Epoch [6500/20000] Loss: 2.202649920945987e-05, k1: 4.011838912963867, k2: 0.8511999249458313\n",
      "Epoch [7000/20000] Loss: 1.4629784345743246e-05, k1: 4.111760139465332, k2: 0.8709971904754639\n",
      "Epoch [7500/20000] Loss: 9.800367479328997e-06, k1: 4.199246883392334, k2: 0.8883683681488037\n",
      "Epoch [8000/20000] Loss: 6.5432504925411195e-06, k1: 4.275790691375732, k2: 0.9035447239875793\n",
      "Epoch [8500/20000] Loss: 4.333470315032173e-06, k1: 4.342932224273682, k2: 0.9168111085891724\n",
      "Epoch [9000/20000] Loss: 2.9075115435261978e-06, k1: 4.40172815322876, k2: 0.9285358190536499\n",
      "Epoch [9500/20000] Loss: 2.038367938439478e-06, k1: 4.452605724334717, k2: 0.9390771985054016\n",
      "Epoch [10000/20000] Loss: 1.515146095698583e-06, k1: 4.496053695678711, k2: 0.9485006332397461\n",
      "Epoch [10500/20000] Loss: 1.2232536619194434e-06, k1: 4.532982349395752, k2: 0.956716775894165\n",
      "Epoch [11000/20000] Loss: 9.532004696666263e-07, k1: 4.564750671386719, k2: 0.9635831713676453\n",
      "Epoch [11500/20000] Loss: 1.080037350220664e-06, k1: 4.592092514038086, k2: 0.9695006608963013\n",
      "Epoch [12000/20000] Loss: 6.32262640465342e-07, k1: 4.616501808166504, k2: 0.974306583404541\n",
      "Epoch [12500/20000] Loss: 5.169147812011943e-07, k1: 4.638458251953125, k2: 0.9782389998435974\n",
      "Epoch [13000/20000] Loss: 4.5332441800383094e-07, k1: 4.658729553222656, k2: 0.9813249111175537\n",
      "Epoch [13500/20000] Loss: 3.5070041803919594e-07, k1: 4.676634311676025, k2: 0.9843468070030212\n",
      "Epoch [14000/20000] Loss: 2.8787886208192504e-07, k1: 4.691997528076172, k2: 0.9874975681304932\n",
      "Epoch [14500/20000] Loss: 3.070222476253548e-07, k1: 4.706860542297363, k2: 0.989584743976593\n",
      "Epoch [15000/20000] Loss: 1.9144242457969085e-07, k1: 4.719468593597412, k2: 0.991797924041748\n",
      "Epoch [15500/20000] Loss: 1.5369951711363683e-07, k1: 4.731651782989502, k2: 0.9933580756187439\n",
      "Epoch [16000/20000] Loss: 1.2228599644004134e-07, k1: 4.7413787841796875, k2: 0.9956141114234924\n",
      "Epoch [16500/20000] Loss: 1.3618267757919966e-07, k1: 4.751123905181885, k2: 0.996920108795166\n",
      "Epoch [17000/20000] Loss: 8.173767440666779e-08, k1: 4.760266304016113, k2: 0.9978598952293396\n",
      "Epoch [17500/20000] Loss: 1.7262394180761476e-07, k1: 4.767550468444824, k2: 0.9997445940971375\n",
      "Epoch [18000/20000] Loss: 5.5761102402129836e-08, k1: 4.774991035461426, k2: 1.0000627040863037\n",
      "Epoch [18500/20000] Loss: 4.3794567972099685e-08, k1: 4.780576229095459, k2: 1.001723051071167\n",
      "Epoch [19000/20000] Loss: 3.849121199550609e-08, k1: 4.7851033210754395, k2: 1.0027387142181396\n",
      "Epoch [19500/20000] Loss: 3.2635337987585444e-08, k1: 4.788614273071289, k2: 1.003909945487976\n"
     ]
    }
   ],
   "source": [
    "network = Network().to(DEVICE)\n",
    "optimizer = torch.optim.Adam(network.parameters(), lr=0.001)\n",
    "criterion = nn.MSELoss()\n",
    "\n",
    "EPOCHS = 20000\n",
    "LOSS = []\n",
    "for epoch in range(EPOCHS):\n",
    "    \n",
    "    u_pred = network.forward(ts_train)\n",
    "    residual_pred = residuals(ts_train, network)\n",
    "    \n",
    "    loss = criterion(u_pred, us_train)\n",
    "    loss += torch.mean(residual_pred**2)\n",
    "    \n",
    "    LOSS.append(loss.item())\n",
    "    optimizer.zero_grad()\n",
    "    loss.backward()\n",
    "    optimizer.step()\n",
    "    if epoch % 500 == 0:\n",
    "        print(f'Epoch [{epoch}/{EPOCHS}] Loss: {loss}, k1: {network.k1.item()}, k2: {network.k2.item()}')\n",
    "        "
   ]
  },
  {
   "cell_type": "code",
   "execution_count": 57,
   "metadata": {},
   "outputs": [
    {
     "data": {
      "image/png": "[encoded data removed]",
      "text/plain": [
       "<Figure size 400x300 with 1 Axes>"
      ]
     },
     "metadata": {},
     "output_type": "display_data"
    }
   ],
   "source": [
    "# Plot u_pred vs ts\n",
    "network.eval()\n",
    "with torch.no_grad():\n",
    "    u_pred = network(t_true)\n",
    "    plt.figure(figsize=(4,3))\n",
    "    plt.plot(t_true.cpu(), y_true.cpu(), label='True')\n",
    "    plt.scatter(t_train.cpu(), y_train[:,0], label='Train', color='orange')\n",
    "    plt.scatter(t_train.cpu(), y_train[:,1], label='Train', color='orange')\n",
    "    plt.plot(t_true.cpu(), u_pred[:,0].cpu().numpy(), label='Pred', color='red')\n",
    "    plt.plot(t_true.cpu(), u_pred[:,1].cpu().numpy(), label='Pred', color='red')\n",
    "    plt.legend()\n",
    "    plt.show()"
   ]
  },
  {
   "cell_type": "code",
   "execution_count": 40,
   "metadata": {},
   "outputs": [
    {
     "data": {
      "text/plain": [
       "(Parameter containing:\n",
       " tensor([1.], device='cuda:0', requires_grad=True),\n",
       " Parameter containing:\n",
       " tensor([1.0719], device='cuda:0', requires_grad=True))"
      ]
     },
     "execution_count": 40,
     "metadata": {},
     "output_type": "execute_result"
    }
   ],
   "source": [
    "network.k1, network.k2"
   ]
  },
  {
   "cell_type": "code",
   "execution_count": null,
   "metadata": {},
   "outputs": [],
   "source": []
  },
  {
   "cell_type": "code",
   "execution_count": null,
   "metadata": {},
   "outputs": [],
   "source": []
  },
  {
   "cell_type": "code",
   "execution_count": null,
   "metadata": {},
   "outputs": [],
   "source": []
  },
  {
   "cell_type": "code",
   "execution_count": null,
   "metadata": {},
   "outputs": [],
   "source": []
  },
  {
   "cell_type": "code",
   "execution_count": null,
   "metadata": {},
   "outputs": [],
   "source": []
  },
  {
   "cell_type": "code",
   "execution_count": null,
   "metadata": {},
   "outputs": [],
   "source": []
  },
  {
   "cell_type": "code",
   "execution_count": null,
   "metadata": {},
   "outputs": [],
   "source": [
    "# Stack column torch\n",
    "def stack_col(tensors):\n",
    "    return torch.stack(tensors, 1).squeeze()"
   ]
  },
  {
   "cell_type": "code",
   "execution_count": 3,
   "metadata": {},
   "outputs": [],
   "source": [
    "def grad(outputs, inputs):\n",
    "    \"\"\" Computes the partial derivative of \n",
    "    an output wrt an input.\n",
    "    Args:\n",
    "        outputs: (N, 1) tensor\n",
    "        inputs: (N, D) tensor\n",
    "    \"\"\"\n",
    "    return torch.autograd.grad(outputs, inputs, grad_outputs=torch.ones_like(outputs), create_graph=True, retain_graph=True, allow_unused=True)"
   ]
  },
  {
   "cell_type": "code",
   "execution_count": 4,
   "metadata": {},
   "outputs": [],
   "source": [
    "def np_to_ts(x):\n",
    "    n_samples = len(x)\n",
    "    return torch.from_numpy(x).to(torch.float).to(DEVICE).reshape(n_samples, -1)\n",
    "\n",
    "class Net(nn.Module):\n",
    "    def __init__(self, input_dim, output_dim, n_units=100) -> None:\n",
    "        \n",
    "        super().__init__()\n",
    "        self.n_units = n_units\n",
    "        \n",
    "        self.k = nn.Parameter(torch.tensor([3.]).to(DEVICE))\n",
    "            \n",
    "        self.layers = nn.Sequential(\n",
    "            nn.Linear(input_dim, self.n_units),\n",
    "            nn.ReLU(),\n",
    "            nn.Linear(self.n_units, self.n_units),\n",
    "            nn.ReLU(),\n",
    "        )\n",
    "        self.out = nn.Linear(self.n_units, output_dim)\n",
    "        \n",
    "    def forward(self, x):\n",
    "        h = self.layers(x)\n",
    "        out = self.out(h)\n",
    "        return out\n",
    "    \n",
    "    def predict(self, X):\n",
    "        self.eval()\n",
    "        out = self.forward(np_to_ts(X))\n",
    "        return out.detach().cpu().numpy()\n",
    "    \n",
    "y_train = np_to_ts(y_train)"
   ]
  },
  {
   "cell_type": "code",
   "execution_count": 5,
   "metadata": {},
   "outputs": [],
   "source": [
    "def physics_loss(model: torch.nn.Module):\n",
    "    ts = torch.linspace(T_START, T_END, 1000).view(-1,1).requires_grad_(True).to(DEVICE)\n",
    "    y = model(ts)\n",
    "    dy = grad(y, ts)[0]\n",
    "    ode = dy + 5 * y\n",
    "    return torch.mean(ode**2)"
   ]
  },
  {
   "cell_type": "code",
   "execution_count": 8,
   "metadata": {},
   "outputs": [
    {
     "name": "stdout",
     "output_type": "stream",
     "text": [
      "Epoch 0, loss 0.6517, k = 3.0, Loss ODE = 0.13639138638973236\n",
      "Epoch 500, loss 0.3295, k = 3.0, Loss ODE = 0.010323998518288136\n",
      "Epoch 1000, loss 0.3295, k = 3.0, Loss ODE = 0.010323998518288136\n",
      "Epoch 1500, loss 0.3295, k = 3.0, Loss ODE = 0.010323998518288136\n",
      "Epoch 2000, loss 0.3295, k = 3.0, Loss ODE = 0.010323998518288136\n",
      "Epoch 2500, loss 0.3295, k = 3.0, Loss ODE = 0.010323998518288136\n",
      "Epoch 3000, loss 0.3295, k = 3.0, Loss ODE = 0.010323998518288136\n",
      "Epoch 3500, loss 0.3295, k = 3.0, Loss ODE = 0.010323998518288136\n",
      "Epoch 4000, loss 0.3295, k = 3.0, Loss ODE = 0.010323998518288136\n",
      "Epoch 4500, loss 0.3295, k = 3.0, Loss ODE = 0.010323998518288136\n",
      "Epoch 5000, loss 0.3295, k = 3.0, Loss ODE = 0.010323998518288136\n",
      "Epoch 5500, loss 0.3295, k = 3.0, Loss ODE = 0.010323998518288136\n",
      "Epoch 6000, loss 0.3295, k = 3.0, Loss ODE = 0.010323998518288136\n",
      "Epoch 6500, loss 0.3295, k = 3.0, Loss ODE = 0.010323998518288136\n",
      "Epoch 7000, loss 0.3295, k = 3.0, Loss ODE = 0.010323998518288136\n",
      "Epoch 7500, loss 0.3295, k = 3.0, Loss ODE = 0.010323998518288136\n",
      "Epoch 8000, loss 0.3295, k = 3.0, Loss ODE = 0.010323998518288136\n",
      "Epoch 8500, loss 0.3295, k = 3.0, Loss ODE = 0.010323998518288136\n",
      "Epoch 9000, loss 0.3295, k = 3.0, Loss ODE = 0.010323998518288136\n",
      "Epoch 9500, loss 0.3295, k = 3.0, Loss ODE = 0.010323998518288136\n"
     ]
    }
   ],
   "source": [
    "net = Net(1,1, n_units=5).to(DEVICE)\n",
    "criterion = nn.MSELoss()\n",
    "optimizer = torch.optim.Adam(net.parameters(), lr=1e-1)\n",
    "\n",
    "EPOCHS = 10000\n",
    "for epoch in range(EPOCHS):\n",
    "\n",
    "    y_pred = net.forward(t_train)\n",
    "    loss_data = criterion(y_pred, y_train) \n",
    "    \n",
    "    y_t = grad(y_pred, t_train)[0]\n",
    "    \n",
    "    loss_ode = physics_loss(net)\n",
    "    \n",
    "    loss = loss_data + loss_ode  \n",
    "    \n",
    "    optimizer.zero_grad()\n",
    "    loss.backward()\n",
    "    optimizer.step()\n",
    "    \n",
    "    if epoch % 500 == 0:\n",
    "        print(f'Epoch {epoch}, loss {round(loss.item(),4)}, k = {net.k.item()}, Loss ODE = {loss_ode.item()}')"
   ]
  },
  {
   "cell_type": "code",
   "execution_count": 9,
   "metadata": {},
   "outputs": [
    {
     "data": {
      "image/png": "[encoded data removed]",
      "text/plain": [
       "<Figure size 400x300 with 1 Axes>"
      ]
     },
     "metadata": {},
     "output_type": "display_data"
    }
   ],
   "source": [
    "pred = net.predict(t_true.detach().numpy())\n",
    "\n",
    "# Plot true and training data\n",
    "plt.figure(figsize=(4,3))\n",
    "plt.plot(t_true.detach().numpy(), y_true .cpu().numpy(), label='True')\n",
    "plt.plot(t_true.detach().numpy(), pred, label='Pred')\n",
    "plt.legend()\n",
    "plt.show()"
   ]
  },
  {
   "cell_type": "code",
   "execution_count": null,
   "metadata": {},
   "outputs": [],
   "source": [
    "net.k"
   ]
  },
  {
   "cell_type": "code",
   "execution_count": null,
   "metadata": {},
   "outputs": [],
   "source": [
    "1/0"
   ]
  },
  {
   "cell_type": "code",
   "execution_count": null,
   "metadata": {},
   "outputs": [],
   "source": []
  },
  {
   "cell_type": "code",
   "execution_count": null,
   "metadata": {},
   "outputs": [],
   "source": []
  },
  {
   "cell_type": "code",
   "execution_count": null,
   "metadata": {},
   "outputs": [],
   "source": []
  },
  {
   "cell_type": "code",
   "execution_count": null,
   "metadata": {},
   "outputs": [],
   "source": []
  },
  {
   "cell_type": "code",
   "execution_count": null,
   "metadata": {},
   "outputs": [],
   "source": []
  },
  {
   "cell_type": "code",
   "execution_count": null,
   "metadata": {},
   "outputs": [],
   "source": [
    "import functools\n",
    "import matplotlib.pyplot as plt\n",
    "import numpy as np\n",
    "import torch\n",
    "import torch.nn as nn\n",
    "import seaborn as sns\n",
    "from tqdm import tqdm\n",
    "from scipy.integrate import solve_ivp, odeint\n",
    "\n",
    "DEVICE = torch.device('cuda' if torch.cuda.is_available() else 'cpu')\n",
    "\n",
    "sns.set_theme()\n",
    "torch.manual_seed(42)"
   ]
  },
  {
   "cell_type": "code",
   "execution_count": null,
   "metadata": {},
   "outputs": [],
   "source": [
    "# Define the system of ODEs\n",
    "def model(y, t, k1, k2):\n",
    "    dy1dt = -k1 * y[0]\n",
    "    dy2dt = k1 * y[0] - k2 * y[1]\n",
    "    return [dy1dt, dy2dt]\n",
    "\n",
    "y0 = [1, 0]\n",
    "T_START = 0\n",
    "T_END = 2\n",
    "t = np.linspace(T_START, T_END, 100)  # Adjust the time range as needed\n",
    "k1 = 5\n",
    "k2 = 1\n",
    "solution = odeint(model, y0, t, args=(k1, k2))\n",
    "\n",
    "# Analytic ODE solution\n",
    "z_1 = lambda t: np.exp(-5 * t)\n",
    "z_2 = lambda t: 5/4 * np.exp(-5 * t) * (np.exp(4 * t) - 1)\n",
    "\n",
    "# Create true data\n",
    "t_true = torch.from_numpy(t).float().view(-1,1).to(DEVICE)\n",
    "y_true = torch.from_numpy(solution).float().to(DEVICE)\n",
    "\n",
    "# Make training data\n",
    "n_samples = 24\n",
    "t_train = torch.linspace(T_START, T_END, n_samples).view(-1,1).requires_grad_(True).to(DEVICE)\n",
    "y_train = np.column_stack([z_1(t_train.cpu().detach().numpy()), z_2(t_train.cpu().detach().numpy())])\n",
    "# Add small white noise to the training data\n",
    "# y_train += 0.006 * torch.randn(n_samples, 2).to(DEVICE)\n",
    "\n",
    "\n",
    "# Plot true and training data \n",
    "plt.plot(t_true.cpu().numpy(), y_true[:, 0] .cpu().numpy())\n",
    "plt.plot(t_true.cpu().numpy(), y_true[:, 1] .cpu().numpy())\n",
    "plt.plot(t_train.cpu().detach().numpy(), y_train[:, 0], 'o')\n",
    "plt.plot(t_train.cpu().detach().numpy(), y_train[:, 1], 'o')\n",
    "plt.show()"
   ]
  },
  {
   "cell_type": "code",
   "execution_count": null,
   "metadata": {},
   "outputs": [],
   "source": [
    "def grad(outputs, inputs):\n",
    "    \"\"\" Computes the partial derivative of \n",
    "    an output wrt an input.\n",
    "    Args:\n",
    "        outputs: (N, 1) tensor\n",
    "        inputs: (N, D) tensor\n",
    "    \"\"\"\n",
    "    return torch.autograd.grad(outputs, inputs, grad_outputs=torch.ones_like(outputs), create_graph=True)"
   ]
  },
  {
   "cell_type": "code",
   "execution_count": null,
   "metadata": {},
   "outputs": [],
   "source": [
    "def np_to_ts(x):\n",
    "    n_samples = len(x)\n",
    "    return torch.from_numpy(x).to(torch.float).to(DEVICE).reshape(n_samples, -1)\n",
    "\n",
    "class Net(nn.Module):\n",
    "    def __init__(self, input_dim, output_dim, n_units=100) -> None:\n",
    "        \n",
    "        super().__init__()\n",
    "        self.n_units = n_units\n",
    "        \n",
    "        self.layers = nn.Sequential(\n",
    "            nn.Linear(input_dim, self.n_units),\n",
    "            nn.ReLU(),\n",
    "            nn.Linear(self.n_units, self.n_units),\n",
    "            nn.ReLU(),\n",
    "            nn.Linear(self.n_units, self.n_units),\n",
    "            nn.ReLU(),\n",
    "            nn.Linear(self.n_units, self.n_units),\n",
    "            nn.ReLU(),\n",
    "        )\n",
    "        self.out = nn.Linear(self.n_units, output_dim)\n",
    "        \n",
    "    def forward(self, x):\n",
    "        h = self.layers(x)\n",
    "        out = self.out(h)\n",
    "        return out\n",
    "        \n",
    "    def predict(self, X):\n",
    "        self.eval()\n",
    "        out = self.forward(np_to_ts(X))\n",
    "        return out.detach().cpu().numpy()\n",
    "    \n",
    "class ParameterEstimation(Net):\n",
    "    def __init__(self, input_dim, output_dim, n_units=100) -> None:\n",
    "        super().__init__(input_dim, output_dim, n_units)\n",
    "        \n",
    "        self.k_1 = nn.Parameter(data=torch.tensor([1.]))\n",
    "        self.k_2 = nn.Parameter(data=torch.tensor([1.]))"
   ]
  },
  {
   "cell_type": "code",
   "execution_count": null,
   "metadata": {},
   "outputs": [],
   "source": [
    "net = ParameterEstimation(1,2, n_units=10).to(DEVICE)\n",
    "criterion = nn.MSELoss()\n",
    "optimizer = torch.optim.Adam(net.parameters(), lr=0.0001)\n",
    "\n",
    "y_train = np_to_ts(y_train)\n",
    "\n",
    "EPOCHS = 10000\n",
    "for epoch in range(EPOCHS):\n",
    "    # Forward pass\n",
    "    y_pred = net(t_train)\n",
    "    loss = criterion(y_pred, y_train) \n",
    "    loss.backward()\n",
    "    optimizer.step()\n",
    "    if epoch % 500 == 0:\n",
    "        print(f'Epoch {epoch}, loss {round(loss.item(),4)}')"
   ]
  },
  {
   "cell_type": "code",
   "execution_count": null,
   "metadata": {},
   "outputs": [],
   "source": [
    "# Plot true and pred on t_train\n",
    "y_pred = net(t_train)\n",
    "plt.plot(t_true.cpu().numpy(), y_true[:, 0].cpu().numpy())\n",
    "plt.plot(t_true.cpu().numpy(), y_true[:, 1].cpu().numpy())\n",
    "plt.plot(t_train.cpu().detach().numpy(), y_pred[:, 0].detach().cpu().numpy())\n",
    "plt.plot(t_train.cpu().detach().numpy(), y_pred[:, 1].detach().cpu().numpy())\n",
    "plt.show()"
   ]
  },
  {
   "cell_type": "code",
   "execution_count": null,
   "metadata": {},
   "outputs": [],
   "source": [
    "from scipy.optimize import minimize\n",
    "\n",
    "dy_pred = grad(y_pred[:,0], t_train)[0].cpu().detach().numpy()\n",
    "\n",
    "y_train_np = y_train[:,0].cpu().detach().numpy()\n",
    "\n",
    "def objective(k):\n",
    "    return np.sum((dy_pred - (-k * y_train_np))**2)\n",
    "\n",
    "result = minimize(objective, 1)\n",
    "result.x"
   ]
  },
  {
   "cell_type": "code",
   "execution_count": null,
   "metadata": {},
   "outputs": [],
   "source": [
    "from scipy.optimize import minimize_scalar\n",
    "\n",
    "def objective(k_1):\n",
    "    return torch.sum(grad(y_pred[:,0], t_train) - k_1 * y_pred[:,0])**2\n",
    "\n",
    "result = minimize_scalar(objective)\n",
    "optimal_k_1 = result.x\n",
    "\n",
    "print(\"Optimal k_1:\", optimal_k_1)\n",
    "grad(y_pred[:,0], t_train) - k_1 * y_pred[:,0]"
   ]
  }
 ],
 "metadata": {
  "kernelspec": {
   "display_name": "main",
   "language": "python",
   "name": "python3"
  },
  "language_info": {
   "codemirror_mode": {
    "name": "ipython",
    "version": 3
   },
   "file_extension": ".py",
   "mimetype": "text/x-python",
   "name": "python",
   "nbconvert_exporter": "python",
   "pygments_lexer": "ipython3",
   "version": "3.10.12"
  }
 },
 "nbformat": 4,
 "nbformat_minor": 2
}
