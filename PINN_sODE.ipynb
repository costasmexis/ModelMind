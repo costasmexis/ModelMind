{
 "cells": [
  {
   "cell_type": "markdown",
   "metadata": {},
   "source": [
    "### Very Simple Example (single reaction)"
   ]
  },
  {
   "cell_type": "code",
   "execution_count": 1,
   "metadata": {},
   "outputs": [
    {
     "data": {
      "text/plain": [
       "<torch._C.Generator at 0x7f44f8b32870>"
      ]
     },
     "execution_count": 1,
     "metadata": {},
     "output_type": "execute_result"
    }
   ],
   "source": [
    "import functools\n",
    "import matplotlib.pyplot as plt\n",
    "import numpy as np\n",
    "import torch\n",
    "import torch.nn as nn\n",
    "import seaborn as sns\n",
    "from tqdm import tqdm\n",
    "from scipy.integrate import solve_ivp, odeint\n",
    "\n",
    "DEVICE = torch.device('cuda' if torch.cuda.is_available() else 'cpu')\n",
    "\n",
    "sns.set_theme()\n",
    "torch.manual_seed(42)"
   ]
  },
  {
   "cell_type": "code",
   "execution_count": 2,
   "metadata": {},
   "outputs": [],
   "source": [
    "# Define the system of ODEs\n",
    "def model(y, t, k1, k2):\n",
    "    dy1dt = -k1 * y[0]\n",
    "    dy2dt = k1 * y[0] - k2 * y[1]\n",
    "    return [dy1dt, dy2dt]\n",
    "\n",
    "y0 = [1, 0]  # Initial conditions\n",
    "T_START = 0\n",
    "T_END = 2\n",
    "t = np.linspace(T_START, T_END, 100)  # Adjust the time range as needed\n",
    "k1 = 5\n",
    "k2 = 1\n",
    "solution = odeint(model, y0, t, args=(k1,k2))"
   ]
  },
  {
   "cell_type": "code",
   "execution_count": 3,
   "metadata": {},
   "outputs": [
    {
     "data": {
      "image/png": "[encoded data removed]",
      "text/plain": [
       "<Figure size 400x300 with 1 Axes>"
      ]
     },
     "metadata": {},
     "output_type": "display_data"
    }
   ],
   "source": [
    "# Analytic ODE solution\n",
    "z_1 = lambda t: np.exp(-5 * t)\n",
    "z_2 = lambda t: 5/4 * np.exp(-5 * t) * (-1 + np.exp(4 * t))\n",
    "\n",
    "# Create true data\n",
    "t_true = torch.from_numpy(t).float().view(-1,1).to(DEVICE)\n",
    "y_true = torch.from_numpy(solution).float().to(DEVICE)\n",
    "\n",
    "# Make training data\n",
    "n_samples = 10\n",
    "t_train = torch.linspace(T_START, 2, n_samples).view(-1,1).requires_grad_(True).to(DEVICE)\n",
    "y_train_1 = z_1(t_train.cpu().detach().numpy())\n",
    "y_train_2 = z_2(t_train.cpu().detach().numpy())\n",
    "# Stack the two solutions using numpy \n",
    "y_train = np.hstack((y_train_1, y_train_2))\n",
    "\n",
    "# Plot true and training data \n",
    "plt.figure(figsize=(4,3))\n",
    "plt.plot(t_true.cpu().numpy(), y_true .cpu().numpy())\n",
    "plt.plot(t_train.cpu().detach().numpy(), y_train[:,0], 'o')\n",
    "plt.plot(t_train.cpu().detach().numpy(), y_train[:,1], 'o')\n",
    "plt.show()"
   ]
  },
  {
   "cell_type": "code",
   "execution_count": 4,
   "metadata": {},
   "outputs": [],
   "source": [
    "# Make a NN for u\n",
    "class Network(nn.Module):\n",
    "    def __init__(self):\n",
    "        super(Network, self).__init__()\n",
    "        self.fc1 = nn.Linear(1, 5)\n",
    "        self.fc2 = nn.Linear(5, 10)\n",
    "        self.fc3 = nn.Linear(10, 2)\n",
    "        \n",
    "        self.k2 = nn.Parameter(torch.tensor([1.0]))\n",
    "        self.k1 = nn.Parameter(torch.tensor([1.0]))\n",
    "        \n",
    "    def forward(self, x):\n",
    "        x = torch.tanh(self.fc1(x))\n",
    "        x = torch.tanh(self.fc2(x))\n",
    "        x = self.fc3(x)\n",
    "        return x"
   ]
  },
  {
   "cell_type": "code",
   "execution_count": 5,
   "metadata": {},
   "outputs": [
    {
     "name": "stderr",
     "output_type": "stream",
     "text": [
      "/tmp/ipykernel_5484/3687197062.py:2: UserWarning: To copy construct from a tensor, it is recommended to use sourceTensor.clone().detach() or sourceTensor.clone().detach().requires_grad_(True), rather than torch.tensor(sourceTensor).\n",
      "  ts_train = torch.tensor(t_train, requires_grad=True).float().to(DEVICE)\n"
     ]
    }
   ],
   "source": [
    "# Train data to tensor\n",
    "ts_train = torch.tensor(t_train, requires_grad=True).float().to(DEVICE)\n",
    "us_train = torch.tensor(y_train, requires_grad=True).float().to(DEVICE)"
   ]
  },
  {
   "cell_type": "code",
   "execution_count": 6,
   "metadata": {},
   "outputs": [],
   "source": [
    "def residuals(t, model: nn.Module):\n",
    "    t = torch.linspace(T_START, T_END, 500).view(-1,1).to(DEVICE)\n",
    "    t.requires_grad = True  \n",
    "    u = model(t).to(DEVICE)\n",
    "    u_t_1  = torch.autograd.grad(u[:,0], t, grad_outputs=torch.ones_like(u[:,0]), create_graph=True)[0]\n",
    "    u_t_2  = torch.autograd.grad(u[:,1], t, grad_outputs=torch.ones_like(u[:,1]), create_graph=True)[0]\n",
    "    error_1 = u_t_1 - (-model.k1 * u[:,0])\n",
    "    error_2 = u_t_2 - (model.k1 * u[:,0] - model.k2 * u[:,1])\n",
    "    e_1 = torch.mean(error_1)\n",
    "    e_2 = torch.mean(error_2)\n",
    "    return e_1**2+e_2**2"
   ]
  },
  {
   "cell_type": "code",
   "execution_count": 11,
   "metadata": {},
   "outputs": [
    {
     "name": "stdout",
     "output_type": "stream",
     "text": [
      "Epoch [0/10000] Loss: 0.19621647894382477, k1: 0.9990000128746033, k2: 0.9990000128746033\n",
      "Epoch [500/10000] Loss: 0.027373092249035835, k1: 1.1534264087677002, k2: 0.740105926990509\n",
      "Epoch [1000/10000] Loss: 0.004876542836427689, k1: 1.4908316135406494, k2: 0.48580247163772583\n",
      "Epoch [1500/10000] Loss: 0.002357513876631856, k1: 1.826412558555603, k2: 0.3856157660484314\n",
      "Epoch [2000/10000] Loss: 0.0015400496777147055, k1: 2.1201956272125244, k2: 0.4456118047237396\n",
      "Epoch [2500/10000] Loss: 0.0010272882645949721, k1: 2.391451358795166, k2: 0.5212114453315735\n",
      "Epoch [3000/10000] Loss: 0.0006943057524040341, k1: 2.6438066959381104, k2: 0.5848648548126221\n",
      "Epoch [3500/10000] Loss: 0.00047091758460737765, k1: 2.8780577182769775, k2: 0.637063205242157\n",
      "Epoch [4000/10000] Loss: 0.0003175875172019005, k1: 3.0951621532440186, k2: 0.6809317469596863\n",
      "Epoch [4500/10000] Loss: 0.00021177524467930198, k1: 3.2961199283599854, k2: 0.718829333782196\n",
      "Epoch [5000/10000] Loss: 0.00013928141561336815, k1: 3.481616735458374, k2: 0.7521466612815857\n",
      "Epoch [5500/10000] Loss: 9.026911720866337e-05, k1: 3.6519417762756348, k2: 0.7816804647445679\n",
      "Epoch [6000/10000] Loss: 5.7656656281324103e-05, k1: 3.8071141242980957, k2: 0.8079632520675659\n",
      "Epoch [6500/10000] Loss: 3.634487802628428e-05, k1: 3.9470713138580322, k2: 0.8314196467399597\n",
      "Epoch [7000/10000] Loss: 2.2704480215907097e-05, k1: 4.071843147277832, k2: 0.8524125814437866\n",
      "Epoch [7500/10000] Loss: 1.4171433576848358e-05, k1: 4.181699275970459, k2: 0.8712277412414551\n",
      "Epoch [8000/10000] Loss: 8.971233910415322e-06, k1: 4.277309417724609, k2: 0.8879485726356506\n",
      "Epoch [8500/10000] Loss: 5.807388333778363e-06, k1: 4.3595662117004395, k2: 0.9031009674072266\n",
      "Epoch [9000/10000] Loss: 3.931760147679597e-06, k1: 4.429771900177002, k2: 0.9164630770683289\n",
      "Epoch [9500/10000] Loss: 2.6897355382971e-06, k1: 4.489698886871338, k2: 0.9278125762939453\n"
     ]
    }
   ],
   "source": [
    "network = Network().to(DEVICE)\n",
    "optimizer = torch.optim.Adam(network.parameters(), lr=0.001)\n",
    "criterion = nn.MSELoss()\n",
    "\n",
    "EPOCHS = 10000\n",
    "LOSS = []\n",
    "for epoch in range(EPOCHS):\n",
    "    \n",
    "    u_pred = network.forward(ts_train)\n",
    "    residual_pred = residuals(ts_train, network)\n",
    "    \n",
    "    loss = criterion(u_pred, us_train)\n",
    "    loss += torch.mean(residual_pred**2)\n",
    "    \n",
    "    LOSS.append(loss.item())\n",
    "    optimizer.zero_grad()\n",
    "    loss.backward()\n",
    "    optimizer.step()\n",
    "    if epoch % 500 == 0:\n",
    "        print(f'Epoch [{epoch}/{EPOCHS}] Loss: {loss}, k1: {network.k1.item()}, k2: {network.k2.item()}')\n",
    "        "
   ]
  },
  {
   "cell_type": "code",
   "execution_count": 12,
   "metadata": {},
   "outputs": [
    {
     "data": {
      "image/png": "[encoded data removed]",
      "text/plain": [
       "<Figure size 400x300 with 1 Axes>"
      ]
     },
     "metadata": {},
     "output_type": "display_data"
    }
   ],
   "source": [
    "# Plot u_pred vs ts\n",
    "network.eval()\n",
    "with torch.no_grad():\n",
    "    u_pred = network(t_true)\n",
    "    plt.figure(figsize=(4,3))\n",
    "    plt.plot(t_true.cpu(), y_true.cpu(), label='True')\n",
    "    plt.scatter(t_train.cpu(), y_train[:,0], label='Train', color='orange')\n",
    "    plt.scatter(t_train.cpu(), y_train[:,1], label='Train', color='orange')\n",
    "    plt.plot(t_true.cpu(), u_pred[:,0].cpu().numpy(), label='Pred', color='red')\n",
    "    plt.plot(t_true.cpu(), u_pred[:,1].cpu().numpy(), label='Pred', color='red')\n",
    "    plt.legend()\n",
    "    plt.show()"
   ]
  },
  {
   "cell_type": "code",
   "execution_count": 13,
   "metadata": {},
   "outputs": [
    {
     "data": {
      "text/plain": [
       "(Parameter containing:\n",
       " tensor([4.5407], requires_grad=True),\n",
       " Parameter containing:\n",
       " tensor([0.9381], requires_grad=True))"
      ]
     },
     "execution_count": 13,
     "metadata": {},
     "output_type": "execute_result"
    }
   ],
   "source": [
    "network.k1, network.k2"
   ]
  },
  {
   "cell_type": "code",
   "execution_count": 14,
   "metadata": {},
   "outputs": [
    {
     "ename": "ZeroDivisionError",
     "evalue": "division by zero",
     "output_type": "error",
     "traceback": [
      "\u001b[0;31m---------------------------------------------------------------------------\u001b[0m",
      "\u001b[0;31mZeroDivisionError\u001b[0m                         Traceback (most recent call last)",
      "Cell \u001b[0;32mIn[14], line 1\u001b[0m\n\u001b[0;32m----> 1\u001b[0m \u001b[38;5;241;43m1\u001b[39;49m\u001b[38;5;241;43m/\u001b[39;49m\u001b[38;5;241;43m0\u001b[39;49m\n",
      "\u001b[0;31mZeroDivisionError\u001b[0m: division by zero"
     ]
    }
   ],
   "source": [
    "1/0"
   ]
  },
  {
   "cell_type": "code",
   "execution_count": null,
   "metadata": {},
   "outputs": [],
   "source": []
  },
  {
   "cell_type": "code",
   "execution_count": null,
   "metadata": {},
   "outputs": [],
   "source": []
  },
  {
   "cell_type": "markdown",
   "metadata": {},
   "source": [
    "### Simple Regression"
   ]
  },
  {
   "cell_type": "code",
   "execution_count": null,
   "metadata": {},
   "outputs": [],
   "source": [
    "# Define the system of ODEs\n",
    "def model(y, t, k1, k2):\n",
    "    dy1dt = -k1 * y[0]\n",
    "    dy2dt = k1 * y[0] - k2 * y[1]\n",
    "    return [dy1dt, dy2dt]\n",
    "\n",
    "y0 = [1, 0]  # Initial conditions\n",
    "T_START = 0\n",
    "T_END = 2\n",
    "t = np.linspace(T_START, T_END, 100)  # Adjust the time range as needed\n",
    "k1 = 5\n",
    "k2 = 1\n",
    "solution = odeint(model, y0, t, args=(k1,k2))\n",
    "\n",
    "# Analytic ODE solution\n",
    "z_1 = lambda t: np.exp(-5 * t)\n",
    "z_2 = lambda t: 5/4 * np.exp(-5 * t) * (-1 + np.exp(4 * t))\n",
    " \n",
    "t_train = np.linspace(T_START, T_END, 10)  \n",
    "y_train = np.column_stack((z_1(t_train), z_2(t_train)))\n",
    "\n",
    "# Plot true and training data\n",
    "plt.figure(figsize=(4,3))\n",
    "plt.plot(t, solution, label=['y1','y2'])\n",
    "plt.scatter(x=t_train, y=y_train[:,0], label='y1_exp')\n",
    "plt.scatter(x=t_train, y=y_train[:,1], label='y2_exp')\n",
    "plt.legend()\n",
    "plt.show()"
   ]
  },
  {
   "cell_type": "code",
   "execution_count": null,
   "metadata": {},
   "outputs": [],
   "source": []
  },
  {
   "cell_type": "code",
   "execution_count": null,
   "metadata": {},
   "outputs": [],
   "source": []
  },
  {
   "cell_type": "markdown",
   "metadata": {},
   "source": [
    "## Parameter estimation"
   ]
  },
  {
   "cell_type": "code",
   "execution_count": null,
   "metadata": {},
   "outputs": [],
   "source": [
    "import numpy as np\n",
    "import matplotlib.pyplot as plt\n",
    "import matplotlib.patheffects as path_effects\n",
    "\n",
    "from scipy.integrate import odeint\n",
    "from scipy.optimize import curve_fit\n",
    "\n",
    "import scipy.stats as stats"
   ]
  },
  {
   "cell_type": "code",
   "execution_count": null,
   "metadata": {},
   "outputs": [],
   "source": [
    "#Performs the dot produt to make the model \n",
    "def MakeModel(MatrixCoeficients,InitialConditions):\n",
    "    return np.dot(MatrixCoeficients,InitialConditions)"
   ]
  },
  {
   "cell_type": "code",
   "execution_count": null,
   "metadata": {},
   "outputs": [],
   "source": [
    "# ODE system  solving  \n",
    "\n",
    "SolverTime=np.linspace(0,20,num=120)\n",
    "\n",
    "# Model Parameters\n",
    "k1=0.3\n",
    "k2=0.25\n",
    "k3=0.1\n",
    "\n",
    "#Coeficients matrix for model \n",
    "def MakeModelMatrix02(K1,K2,K3):\n",
    "    Matrix=np.zeros((3,3))\n",
    "    Matrix[0,0]=-K1\n",
    "    Matrix[0,1]=K3\n",
    "    Matrix[1,0]=K1\n",
    "    Matrix[1,1]=-(K2+K3)\n",
    "    Matrix[2,1]=K2\n",
    "    return Matrix\n",
    "\n",
    "Matrix02=MakeModelMatrix02(k1,k2,k3)\n",
    "InitialConditions=[5,0,0]\n",
    "\n",
    "def KineticsSystem(InitialConditions,t):\n",
    "    return MakeModel(Matrix02,InitialConditions)\n",
    "\n",
    "SystemSolution=odeint(KineticsSystem,InitialConditions,SolverTime)"
   ]
  },
  {
   "cell_type": "code",
   "execution_count": null,
   "metadata": {},
   "outputs": [],
   "source": [
    "plt.figure(3,figsize=(9,6))\n",
    "\n",
    "plt.plot(SolverTime,SystemSolution[:,0],'b-',label='[A]',path_effects=[path_effects.SimpleLineShadow(alpha=0.2,rho=0.2),\n",
    "                       path_effects.Normal()])\n",
    "plt.plot(SolverTime,SystemSolution[:,1],'g-',label='[B]',path_effects=[path_effects.SimpleLineShadow(alpha=0.2,rho=0.2),\n",
    "                       path_effects.Normal()])\n",
    "plt.plot(SolverTime,SystemSolution[:,2],'m-',label='[C]',path_effects=[path_effects.SimpleLineShadow(alpha=0.2,rho=0.2),\n",
    "                       path_effects.Normal()])\n",
    "\n",
    "plt.xlabel('Time',fontsize=16,fontweight='bold')\n",
    "plt.ylabel('Concentration',fontsize=16,fontweight='bold')\n",
    "plt.legend(loc=0,fontsize=14)\n",
    "\n",
    "ax=plt.gca()\n",
    "plt.show()"
   ]
  },
  {
   "cell_type": "code",
   "execution_count": null,
   "metadata": {},
   "outputs": [],
   "source": [
    "# Data Generation\n",
    "#Element wise sum of two iterables of the same size, name makes reference to the output rather than the process\n",
    "def MakeNoisyData(Data,Noise):\n",
    "    return [val+cal for val,cal in zip(Data,Noise)]\n",
    "\n",
    "WhiteNoise=[np.random.uniform(low=-1,high=1)/4 for val in SystemSolution[:,2]]\n",
    "WhiteSignal=MakeNoisyData(SystemSolution[:,2],WhiteNoise)"
   ]
  },
  {
   "cell_type": "code",
   "execution_count": null,
   "metadata": {},
   "outputs": [],
   "source": [
    "###############################################################################\n",
    "#                              ODE fitting  \n",
    "###############################################################################\n",
    "\n",
    "def ModelSolver02(t,K1,K2,K3,InitialConditions):\n",
    "    \n",
    "    cK1=K1\n",
    "    cK2=K2\n",
    "    cK3=K3\n",
    "    \n",
    "    cInit=InitialConditions\n",
    "    \n",
    "    cMatrix=MakeModelMatrix02(cK1,cK2,cK3)\n",
    "    \n",
    "    def LocalModel(cInit,t):\n",
    "        \n",
    "        return MakeModel(cMatrix,cInit)\n",
    "    \n",
    "    Solution=odeint(LocalModel,cInit,t)\n",
    "    \n",
    "    return Solution[:,2]\n",
    "\n",
    "def ModelSolution02(t,K1,K2,K3):\n",
    "    \n",
    "    return ModelSolver02(t,K1,K2,K3,InitialConditions)\n",
    "    \n",
    "    \n",
    "Model02Params=curve_fit(ModelSolution02,SolverTime,WhiteSignal)\n",
    "\n",
    "fK1=Model02Params[0][0]\n",
    "fK2=Model02Params[0][1]\n",
    "fK3=Model02Params[0][2]\n",
    "\n",
    "FitSolutionB=ModelSolution02(SolverTime,fK1,fK2,fK3)\n",
    "\n",
    "###############################################################################\n",
    "#                        Visualization\n",
    "###############################################################################\n",
    "\n",
    "plt.figure(4,figsize=(9,6))\n",
    "\n",
    "(markers, stemlines, baseline) = plt.stem(SolverTime, WhiteSignal,bottom=0,label='Data',basefmt=\" \")\n",
    "plt.setp(stemlines, linestyle=\"-\", color=\"red\", linewidth=0.5,alpha=0.5 )\n",
    "plt.setp(markers, color=\"red\",alpha=0.75 )\n",
    "\n",
    "SolutionLabel='[C]'\n",
    "plt.plot(SolverTime,FitSolutionB,'m-',label=SolutionLabel,path_effects=[path_effects.SimpleLineShadow(alpha=0.2,rho=0.2),\n",
    "                       path_effects.Normal()])\n",
    "    \n",
    "plt.xlabel('Time',fontsize=16,fontweight='bold')\n",
    "plt.ylabel('Concentration',fontsize=16,fontweight='bold')\n",
    "plt.legend(loc=0,fontsize=14)\n",
    "\n",
    "plt.ylim(0,5.2)\n",
    "\n",
    "ax=plt.gca()\n",
    "plt.show()\n",
    "\n",
    "###############################################################################\n",
    "#                    Residuals Statistical test  \n",
    "###############################################################################\n",
    "\n",
    "ObRes=[signal-model for signal,model in zip(WhiteSignal,FitSolutionB)]\n",
    "\n",
    "KS=stats.ks_2samp(ObRes,WhiteNoise)\n",
    "\n",
    "print(KS)"
   ]
  }
 ],
 "metadata": {
  "kernelspec": {
   "display_name": "main",
   "language": "python",
   "name": "python3"
  },
  "language_info": {
   "codemirror_mode": {
    "name": "ipython",
    "version": 3
   },
   "file_extension": ".py",
   "mimetype": "text/x-python",
   "name": "python",
   "nbconvert_exporter": "python",
   "pygments_lexer": "ipython3",
   "version": "3.10.12"
  }
 },
 "nbformat": 4,
 "nbformat_minor": 2
}
